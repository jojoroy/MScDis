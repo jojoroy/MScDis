{
  "nbformat": 4,
  "nbformat_minor": 0,
  "metadata": {
    "colab": {
      "provenance": [],
      "authorship_tag": "ABX9TyNCX3dN1v1rI/as5JSP9OMG",
      "include_colab_link": true
    },
    "kernelspec": {
      "name": "python3",
      "display_name": "Python 3"
    },
    "language_info": {
      "name": "python"
    },
    "widgets": {
      "application/vnd.jupyter.widget-state+json": {
        "fd80e7a6709d4d769f2f3446387e53b3": {
          "model_module": "@jupyter-widgets/controls",
          "model_name": "HBoxModel",
          "model_module_version": "1.5.0",
          "state": {
            "_dom_classes": [],
            "_model_module": "@jupyter-widgets/controls",
            "_model_module_version": "1.5.0",
            "_model_name": "HBoxModel",
            "_view_count": null,
            "_view_module": "@jupyter-widgets/controls",
            "_view_module_version": "1.5.0",
            "_view_name": "HBoxView",
            "box_style": "",
            "children": [
              "IPY_MODEL_1cee860166864e918dcd74c5dd5807c5",
              "IPY_MODEL_6951ee5eed514243a23cb2d509d9cc77",
              "IPY_MODEL_0512c6b84dd146c59b841b44320c3e47"
            ],
            "layout": "IPY_MODEL_6182185999e74738aa728b5c42230c22"
          }
        },
        "1cee860166864e918dcd74c5dd5807c5": {
          "model_module": "@jupyter-widgets/controls",
          "model_name": "HTMLModel",
          "model_module_version": "1.5.0",
          "state": {
            "_dom_classes": [],
            "_model_module": "@jupyter-widgets/controls",
            "_model_module_version": "1.5.0",
            "_model_name": "HTMLModel",
            "_view_count": null,
            "_view_module": "@jupyter-widgets/controls",
            "_view_module_version": "1.5.0",
            "_view_name": "HTMLView",
            "description": "",
            "description_tooltip": null,
            "layout": "IPY_MODEL_9217c16fe8e14cc2b52b9e9b5b518ef8",
            "placeholder": "​",
            "style": "IPY_MODEL_21dc5d49498f4d39afe9c4ead130a03c",
            "value": "Running: 100%"
          }
        },
        "6951ee5eed514243a23cb2d509d9cc77": {
          "model_module": "@jupyter-widgets/controls",
          "model_name": "FloatProgressModel",
          "model_module_version": "1.5.0",
          "state": {
            "_dom_classes": [],
            "_model_module": "@jupyter-widgets/controls",
            "_model_module_version": "1.5.0",
            "_model_name": "FloatProgressModel",
            "_view_count": null,
            "_view_module": "@jupyter-widgets/controls",
            "_view_module_version": "1.5.0",
            "_view_name": "ProgressView",
            "bar_style": "success",
            "description": "",
            "description_tooltip": null,
            "layout": "IPY_MODEL_f9aaaad9c73043efbc635007d9ebf40c",
            "max": 1000,
            "min": 0,
            "orientation": "horizontal",
            "style": "IPY_MODEL_c99aa3cb4dcb4964a548ac6b4e4e375a",
            "value": 1000
          }
        },
        "0512c6b84dd146c59b841b44320c3e47": {
          "model_module": "@jupyter-widgets/controls",
          "model_name": "HTMLModel",
          "model_module_version": "1.5.0",
          "state": {
            "_dom_classes": [],
            "_model_module": "@jupyter-widgets/controls",
            "_model_module_version": "1.5.0",
            "_model_name": "HTMLModel",
            "_view_count": null,
            "_view_module": "@jupyter-widgets/controls",
            "_view_module_version": "1.5.0",
            "_view_name": "HTMLView",
            "description": "",
            "description_tooltip": null,
            "layout": "IPY_MODEL_6b5306545805411a82ff6f48a1bc230f",
            "placeholder": "​",
            "style": "IPY_MODEL_223008156e39494697d55699de9b76b0",
            "value": " 1000/1000 [00:01&lt;00:00, 1041.07it/s, Value=573709.12]"
          }
        },
        "6182185999e74738aa728b5c42230c22": {
          "model_module": "@jupyter-widgets/base",
          "model_name": "LayoutModel",
          "model_module_version": "1.2.0",
          "state": {
            "_model_module": "@jupyter-widgets/base",
            "_model_module_version": "1.2.0",
            "_model_name": "LayoutModel",
            "_view_count": null,
            "_view_module": "@jupyter-widgets/base",
            "_view_module_version": "1.2.0",
            "_view_name": "LayoutView",
            "align_content": null,
            "align_items": null,
            "align_self": null,
            "border": null,
            "bottom": null,
            "display": null,
            "flex": null,
            "flex_flow": null,
            "grid_area": null,
            "grid_auto_columns": null,
            "grid_auto_flow": null,
            "grid_auto_rows": null,
            "grid_column": null,
            "grid_gap": null,
            "grid_row": null,
            "grid_template_areas": null,
            "grid_template_columns": null,
            "grid_template_rows": null,
            "height": null,
            "justify_content": null,
            "justify_items": null,
            "left": null,
            "margin": null,
            "max_height": null,
            "max_width": null,
            "min_height": null,
            "min_width": null,
            "object_fit": null,
            "object_position": null,
            "order": null,
            "overflow": null,
            "overflow_x": null,
            "overflow_y": null,
            "padding": null,
            "right": null,
            "top": null,
            "visibility": null,
            "width": null
          }
        },
        "9217c16fe8e14cc2b52b9e9b5b518ef8": {
          "model_module": "@jupyter-widgets/base",
          "model_name": "LayoutModel",
          "model_module_version": "1.2.0",
          "state": {
            "_model_module": "@jupyter-widgets/base",
            "_model_module_version": "1.2.0",
            "_model_name": "LayoutModel",
            "_view_count": null,
            "_view_module": "@jupyter-widgets/base",
            "_view_module_version": "1.2.0",
            "_view_name": "LayoutView",
            "align_content": null,
            "align_items": null,
            "align_self": null,
            "border": null,
            "bottom": null,
            "display": null,
            "flex": null,
            "flex_flow": null,
            "grid_area": null,
            "grid_auto_columns": null,
            "grid_auto_flow": null,
            "grid_auto_rows": null,
            "grid_column": null,
            "grid_gap": null,
            "grid_row": null,
            "grid_template_areas": null,
            "grid_template_columns": null,
            "grid_template_rows": null,
            "height": null,
            "justify_content": null,
            "justify_items": null,
            "left": null,
            "margin": null,
            "max_height": null,
            "max_width": null,
            "min_height": null,
            "min_width": null,
            "object_fit": null,
            "object_position": null,
            "order": null,
            "overflow": null,
            "overflow_x": null,
            "overflow_y": null,
            "padding": null,
            "right": null,
            "top": null,
            "visibility": null,
            "width": null
          }
        },
        "21dc5d49498f4d39afe9c4ead130a03c": {
          "model_module": "@jupyter-widgets/controls",
          "model_name": "DescriptionStyleModel",
          "model_module_version": "1.5.0",
          "state": {
            "_model_module": "@jupyter-widgets/controls",
            "_model_module_version": "1.5.0",
            "_model_name": "DescriptionStyleModel",
            "_view_count": null,
            "_view_module": "@jupyter-widgets/base",
            "_view_module_version": "1.2.0",
            "_view_name": "StyleView",
            "description_width": ""
          }
        },
        "f9aaaad9c73043efbc635007d9ebf40c": {
          "model_module": "@jupyter-widgets/base",
          "model_name": "LayoutModel",
          "model_module_version": "1.2.0",
          "state": {
            "_model_module": "@jupyter-widgets/base",
            "_model_module_version": "1.2.0",
            "_model_name": "LayoutModel",
            "_view_count": null,
            "_view_module": "@jupyter-widgets/base",
            "_view_module_version": "1.2.0",
            "_view_name": "LayoutView",
            "align_content": null,
            "align_items": null,
            "align_self": null,
            "border": null,
            "bottom": null,
            "display": null,
            "flex": null,
            "flex_flow": null,
            "grid_area": null,
            "grid_auto_columns": null,
            "grid_auto_flow": null,
            "grid_auto_rows": null,
            "grid_column": null,
            "grid_gap": null,
            "grid_row": null,
            "grid_template_areas": null,
            "grid_template_columns": null,
            "grid_template_rows": null,
            "height": null,
            "justify_content": null,
            "justify_items": null,
            "left": null,
            "margin": null,
            "max_height": null,
            "max_width": null,
            "min_height": null,
            "min_width": null,
            "object_fit": null,
            "object_position": null,
            "order": null,
            "overflow": null,
            "overflow_x": null,
            "overflow_y": null,
            "padding": null,
            "right": null,
            "top": null,
            "visibility": null,
            "width": null
          }
        },
        "c99aa3cb4dcb4964a548ac6b4e4e375a": {
          "model_module": "@jupyter-widgets/controls",
          "model_name": "ProgressStyleModel",
          "model_module_version": "1.5.0",
          "state": {
            "_model_module": "@jupyter-widgets/controls",
            "_model_module_version": "1.5.0",
            "_model_name": "ProgressStyleModel",
            "_view_count": null,
            "_view_module": "@jupyter-widgets/base",
            "_view_module_version": "1.2.0",
            "_view_name": "StyleView",
            "bar_color": null,
            "description_width": ""
          }
        },
        "6b5306545805411a82ff6f48a1bc230f": {
          "model_module": "@jupyter-widgets/base",
          "model_name": "LayoutModel",
          "model_module_version": "1.2.0",
          "state": {
            "_model_module": "@jupyter-widgets/base",
            "_model_module_version": "1.2.0",
            "_model_name": "LayoutModel",
            "_view_count": null,
            "_view_module": "@jupyter-widgets/base",
            "_view_module_version": "1.2.0",
            "_view_name": "LayoutView",
            "align_content": null,
            "align_items": null,
            "align_self": null,
            "border": null,
            "bottom": null,
            "display": null,
            "flex": null,
            "flex_flow": null,
            "grid_area": null,
            "grid_auto_columns": null,
            "grid_auto_flow": null,
            "grid_auto_rows": null,
            "grid_column": null,
            "grid_gap": null,
            "grid_row": null,
            "grid_template_areas": null,
            "grid_template_columns": null,
            "grid_template_rows": null,
            "height": null,
            "justify_content": null,
            "justify_items": null,
            "left": null,
            "margin": null,
            "max_height": null,
            "max_width": null,
            "min_height": null,
            "min_width": null,
            "object_fit": null,
            "object_position": null,
            "order": null,
            "overflow": null,
            "overflow_x": null,
            "overflow_y": null,
            "padding": null,
            "right": null,
            "top": null,
            "visibility": null,
            "width": null
          }
        },
        "223008156e39494697d55699de9b76b0": {
          "model_module": "@jupyter-widgets/controls",
          "model_name": "DescriptionStyleModel",
          "model_module_version": "1.5.0",
          "state": {
            "_model_module": "@jupyter-widgets/controls",
            "_model_module_version": "1.5.0",
            "_model_name": "DescriptionStyleModel",
            "_view_count": null,
            "_view_module": "@jupyter-widgets/base",
            "_view_module_version": "1.2.0",
            "_view_name": "StyleView",
            "description_width": ""
          }
        },
        "622ad1bc42ee4b44a1ec5c9d6c6efd4b": {
          "model_module": "@jupyter-widgets/controls",
          "model_name": "HBoxModel",
          "model_module_version": "1.5.0",
          "state": {
            "_dom_classes": [],
            "_model_module": "@jupyter-widgets/controls",
            "_model_module_version": "1.5.0",
            "_model_name": "HBoxModel",
            "_view_count": null,
            "_view_module": "@jupyter-widgets/controls",
            "_view_module_version": "1.5.0",
            "_view_name": "HBoxView",
            "box_style": "",
            "children": [
              "IPY_MODEL_7fe8a7b6c1db4ad4bacdd42c63073dae",
              "IPY_MODEL_d9e62b22c6a2484388780ae211a24723",
              "IPY_MODEL_ebf03b6669254411ba067e876ba59f47"
            ],
            "layout": "IPY_MODEL_c93e7812f1644e53b4ed978f96ca3429"
          }
        },
        "7fe8a7b6c1db4ad4bacdd42c63073dae": {
          "model_module": "@jupyter-widgets/controls",
          "model_name": "HTMLModel",
          "model_module_version": "1.5.0",
          "state": {
            "_dom_classes": [],
            "_model_module": "@jupyter-widgets/controls",
            "_model_module_version": "1.5.0",
            "_model_name": "HTMLModel",
            "_view_count": null,
            "_view_module": "@jupyter-widgets/controls",
            "_view_module_version": "1.5.0",
            "_view_name": "HTMLView",
            "description": "",
            "description_tooltip": null,
            "layout": "IPY_MODEL_d439c49a38214c05bbe2ef8033f27833",
            "placeholder": "​",
            "style": "IPY_MODEL_394576563f7a44489d0f8e4c92672eb7",
            "value": "Running: 100%"
          }
        },
        "d9e62b22c6a2484388780ae211a24723": {
          "model_module": "@jupyter-widgets/controls",
          "model_name": "FloatProgressModel",
          "model_module_version": "1.5.0",
          "state": {
            "_dom_classes": [],
            "_model_module": "@jupyter-widgets/controls",
            "_model_module_version": "1.5.0",
            "_model_name": "FloatProgressModel",
            "_view_count": null,
            "_view_module": "@jupyter-widgets/controls",
            "_view_module_version": "1.5.0",
            "_view_name": "ProgressView",
            "bar_style": "success",
            "description": "",
            "description_tooltip": null,
            "layout": "IPY_MODEL_c8c31854bfba4893a3fccf79e6521da1",
            "max": 1000,
            "min": 0,
            "orientation": "horizontal",
            "style": "IPY_MODEL_3ef881544fac46b4a3a8df0de26ab504",
            "value": 1000
          }
        },
        "ebf03b6669254411ba067e876ba59f47": {
          "model_module": "@jupyter-widgets/controls",
          "model_name": "HTMLModel",
          "model_module_version": "1.5.0",
          "state": {
            "_dom_classes": [],
            "_model_module": "@jupyter-widgets/controls",
            "_model_module_version": "1.5.0",
            "_model_name": "HTMLModel",
            "_view_count": null,
            "_view_module": "@jupyter-widgets/controls",
            "_view_module_version": "1.5.0",
            "_view_name": "HTMLView",
            "description": "",
            "description_tooltip": null,
            "layout": "IPY_MODEL_27254785f3f74352a72266fc0aa41cd3",
            "placeholder": "​",
            "style": "IPY_MODEL_45874cb1a0bd437ba103a7ad5b8d9a27",
            "value": " 1000/1000 [00:01&lt;00:00, 928.97it/s, Value=493857.81]"
          }
        },
        "c93e7812f1644e53b4ed978f96ca3429": {
          "model_module": "@jupyter-widgets/base",
          "model_name": "LayoutModel",
          "model_module_version": "1.2.0",
          "state": {
            "_model_module": "@jupyter-widgets/base",
            "_model_module_version": "1.2.0",
            "_model_name": "LayoutModel",
            "_view_count": null,
            "_view_module": "@jupyter-widgets/base",
            "_view_module_version": "1.2.0",
            "_view_name": "LayoutView",
            "align_content": null,
            "align_items": null,
            "align_self": null,
            "border": null,
            "bottom": null,
            "display": null,
            "flex": null,
            "flex_flow": null,
            "grid_area": null,
            "grid_auto_columns": null,
            "grid_auto_flow": null,
            "grid_auto_rows": null,
            "grid_column": null,
            "grid_gap": null,
            "grid_row": null,
            "grid_template_areas": null,
            "grid_template_columns": null,
            "grid_template_rows": null,
            "height": null,
            "justify_content": null,
            "justify_items": null,
            "left": null,
            "margin": null,
            "max_height": null,
            "max_width": null,
            "min_height": null,
            "min_width": null,
            "object_fit": null,
            "object_position": null,
            "order": null,
            "overflow": null,
            "overflow_x": null,
            "overflow_y": null,
            "padding": null,
            "right": null,
            "top": null,
            "visibility": null,
            "width": null
          }
        },
        "d439c49a38214c05bbe2ef8033f27833": {
          "model_module": "@jupyter-widgets/base",
          "model_name": "LayoutModel",
          "model_module_version": "1.2.0",
          "state": {
            "_model_module": "@jupyter-widgets/base",
            "_model_module_version": "1.2.0",
            "_model_name": "LayoutModel",
            "_view_count": null,
            "_view_module": "@jupyter-widgets/base",
            "_view_module_version": "1.2.0",
            "_view_name": "LayoutView",
            "align_content": null,
            "align_items": null,
            "align_self": null,
            "border": null,
            "bottom": null,
            "display": null,
            "flex": null,
            "flex_flow": null,
            "grid_area": null,
            "grid_auto_columns": null,
            "grid_auto_flow": null,
            "grid_auto_rows": null,
            "grid_column": null,
            "grid_gap": null,
            "grid_row": null,
            "grid_template_areas": null,
            "grid_template_columns": null,
            "grid_template_rows": null,
            "height": null,
            "justify_content": null,
            "justify_items": null,
            "left": null,
            "margin": null,
            "max_height": null,
            "max_width": null,
            "min_height": null,
            "min_width": null,
            "object_fit": null,
            "object_position": null,
            "order": null,
            "overflow": null,
            "overflow_x": null,
            "overflow_y": null,
            "padding": null,
            "right": null,
            "top": null,
            "visibility": null,
            "width": null
          }
        },
        "394576563f7a44489d0f8e4c92672eb7": {
          "model_module": "@jupyter-widgets/controls",
          "model_name": "DescriptionStyleModel",
          "model_module_version": "1.5.0",
          "state": {
            "_model_module": "@jupyter-widgets/controls",
            "_model_module_version": "1.5.0",
            "_model_name": "DescriptionStyleModel",
            "_view_count": null,
            "_view_module": "@jupyter-widgets/base",
            "_view_module_version": "1.2.0",
            "_view_name": "StyleView",
            "description_width": ""
          }
        },
        "c8c31854bfba4893a3fccf79e6521da1": {
          "model_module": "@jupyter-widgets/base",
          "model_name": "LayoutModel",
          "model_module_version": "1.2.0",
          "state": {
            "_model_module": "@jupyter-widgets/base",
            "_model_module_version": "1.2.0",
            "_model_name": "LayoutModel",
            "_view_count": null,
            "_view_module": "@jupyter-widgets/base",
            "_view_module_version": "1.2.0",
            "_view_name": "LayoutView",
            "align_content": null,
            "align_items": null,
            "align_self": null,
            "border": null,
            "bottom": null,
            "display": null,
            "flex": null,
            "flex_flow": null,
            "grid_area": null,
            "grid_auto_columns": null,
            "grid_auto_flow": null,
            "grid_auto_rows": null,
            "grid_column": null,
            "grid_gap": null,
            "grid_row": null,
            "grid_template_areas": null,
            "grid_template_columns": null,
            "grid_template_rows": null,
            "height": null,
            "justify_content": null,
            "justify_items": null,
            "left": null,
            "margin": null,
            "max_height": null,
            "max_width": null,
            "min_height": null,
            "min_width": null,
            "object_fit": null,
            "object_position": null,
            "order": null,
            "overflow": null,
            "overflow_x": null,
            "overflow_y": null,
            "padding": null,
            "right": null,
            "top": null,
            "visibility": null,
            "width": null
          }
        },
        "3ef881544fac46b4a3a8df0de26ab504": {
          "model_module": "@jupyter-widgets/controls",
          "model_name": "ProgressStyleModel",
          "model_module_version": "1.5.0",
          "state": {
            "_model_module": "@jupyter-widgets/controls",
            "_model_module_version": "1.5.0",
            "_model_name": "ProgressStyleModel",
            "_view_count": null,
            "_view_module": "@jupyter-widgets/base",
            "_view_module_version": "1.2.0",
            "_view_name": "StyleView",
            "bar_color": null,
            "description_width": ""
          }
        },
        "27254785f3f74352a72266fc0aa41cd3": {
          "model_module": "@jupyter-widgets/base",
          "model_name": "LayoutModel",
          "model_module_version": "1.2.0",
          "state": {
            "_model_module": "@jupyter-widgets/base",
            "_model_module_version": "1.2.0",
            "_model_name": "LayoutModel",
            "_view_count": null,
            "_view_module": "@jupyter-widgets/base",
            "_view_module_version": "1.2.0",
            "_view_name": "LayoutView",
            "align_content": null,
            "align_items": null,
            "align_self": null,
            "border": null,
            "bottom": null,
            "display": null,
            "flex": null,
            "flex_flow": null,
            "grid_area": null,
            "grid_auto_columns": null,
            "grid_auto_flow": null,
            "grid_auto_rows": null,
            "grid_column": null,
            "grid_gap": null,
            "grid_row": null,
            "grid_template_areas": null,
            "grid_template_columns": null,
            "grid_template_rows": null,
            "height": null,
            "justify_content": null,
            "justify_items": null,
            "left": null,
            "margin": null,
            "max_height": null,
            "max_width": null,
            "min_height": null,
            "min_width": null,
            "object_fit": null,
            "object_position": null,
            "order": null,
            "overflow": null,
            "overflow_x": null,
            "overflow_y": null,
            "padding": null,
            "right": null,
            "top": null,
            "visibility": null,
            "width": null
          }
        },
        "45874cb1a0bd437ba103a7ad5b8d9a27": {
          "model_module": "@jupyter-widgets/controls",
          "model_name": "DescriptionStyleModel",
          "model_module_version": "1.5.0",
          "state": {
            "_model_module": "@jupyter-widgets/controls",
            "_model_module_version": "1.5.0",
            "_model_name": "DescriptionStyleModel",
            "_view_count": null,
            "_view_module": "@jupyter-widgets/base",
            "_view_module_version": "1.2.0",
            "_view_name": "StyleView",
            "description_width": ""
          }
        }
      }
    }
  },
  "cells": [
    {
      "cell_type": "markdown",
      "metadata": {
        "id": "view-in-github",
        "colab_type": "text"
      },
      "source": [
        "<a href=\"https://colab.research.google.com/github/jojoroy/MScDis/blob/main/GP_MH_function.ipynb\" target=\"_parent\"><img src=\"https://colab.research.google.com/assets/colab-badge.svg\" alt=\"Open In Colab\"/></a>"
      ]
    },
    {
      "cell_type": "code",
      "execution_count": null,
      "metadata": {
        "id": "EbSv-eBOAQip"
      },
      "outputs": [],
      "source": []
    },
    {
      "cell_type": "code",
      "execution_count": 1,
      "metadata": {
        "colab": {
          "base_uri": "https://localhost:8080/"
        },
        "id": "PWKoHlv0TRhW",
        "outputId": "8c255e4b-8769-4fd9-c7d8-5b56686e4612"
      },
      "outputs": [
        {
          "output_type": "stream",
          "name": "stdout",
          "text": [
            "Collecting jaxtyping==0.2.31\n",
            "  Downloading jaxtyping-0.2.31-py3-none-any.whl.metadata (6.4 kB)\n",
            "Collecting typeguard==2.13.3 (from jaxtyping==0.2.31)\n",
            "  Downloading typeguard-2.13.3-py3-none-any.whl.metadata (3.6 kB)\n",
            "Downloading jaxtyping-0.2.31-py3-none-any.whl (41 kB)\n",
            "\u001b[2K   \u001b[90m━━━━━━━━━━━━━━━━━━━━━━━━━━━━━━━━━━━━━━━━\u001b[0m \u001b[32m42.0/42.0 kB\u001b[0m \u001b[31m2.3 MB/s\u001b[0m eta \u001b[36m0:00:00\u001b[0m\n",
            "\u001b[?25hDownloading typeguard-2.13.3-py3-none-any.whl (17 kB)\n",
            "Installing collected packages: typeguard, jaxtyping\n",
            "  Attempting uninstall: typeguard\n",
            "    Found existing installation: typeguard 4.3.0\n",
            "    Uninstalling typeguard-4.3.0:\n",
            "      Successfully uninstalled typeguard-4.3.0\n",
            "\u001b[31mERROR: pip's dependency resolver does not currently take into account all the packages that are installed. This behaviour is the source of the following dependency conflicts.\n",
            "inflect 7.4.0 requires typeguard>=4.0.1, but you have typeguard 2.13.3 which is incompatible.\u001b[0m\u001b[31m\n",
            "\u001b[0mSuccessfully installed jaxtyping-0.2.31 typeguard-2.13.3\n"
          ]
        }
      ],
      "source": [
        "pip install jaxtyping==0.2.31\n"
      ]
    },
    {
      "cell_type": "code",
      "execution_count": 2,
      "metadata": {
        "colab": {
          "base_uri": "https://localhost:8080/"
        },
        "id": "kuUONLSmTr1I",
        "outputId": "754a84fd-812b-4910-dbb8-ed9b5585953c"
      },
      "outputs": [
        {
          "output_type": "stream",
          "name": "stdout",
          "text": [
            "Collecting gpjax==0.8.2\n",
            "  Downloading gpjax-0.8.2-py3-none-any.whl.metadata (10 kB)\n",
            "Collecting beartype<0.17.0,>=0.16.2 (from gpjax==0.8.2)\n",
            "  Downloading beartype-0.16.4-py3-none-any.whl.metadata (29 kB)\n",
            "Collecting cola-ml<0.0.6,>=0.0.5 (from gpjax==0.8.2)\n",
            "  Downloading cola_ml-0.0.5-py3-none-any.whl.metadata (7.4 kB)\n",
            "Requirement already satisfied: jax>=0.4.16 in /usr/local/lib/python3.10/dist-packages (from gpjax==0.8.2) (0.4.33)\n",
            "Requirement already satisfied: jaxlib>=0.4.16 in /usr/local/lib/python3.10/dist-packages (from gpjax==0.8.2) (0.4.33)\n",
            "Collecting jaxopt<0.9.0,>=0.8.3 (from gpjax==0.8.2)\n",
            "  Downloading jaxopt-0.8.3-py3-none-any.whl.metadata (2.6 kB)\n",
            "Requirement already satisfied: jaxtyping<0.3.0,>=0.2.15 in /usr/local/lib/python3.10/dist-packages (from gpjax==0.8.2) (0.2.31)\n",
            "Collecting optax<0.2.0,>=0.1.4 (from gpjax==0.8.2)\n",
            "  Downloading optax-0.1.9-py3-none-any.whl.metadata (6.7 kB)\n",
            "Requirement already satisfied: orbax-checkpoint>=0.2.3 in /usr/local/lib/python3.10/dist-packages (from gpjax==0.8.2) (0.6.4)\n",
            "Collecting simple-pytree<0.2.0,>=0.1.7 (from gpjax==0.8.2)\n",
            "  Downloading simple_pytree-0.1.7-py3-none-any.whl.metadata (4.0 kB)\n",
            "Collecting tensorflow-probability<0.23.0,>=0.22.0 (from gpjax==0.8.2)\n",
            "  Downloading tensorflow_probability-0.22.1-py2.py3-none-any.whl.metadata (13 kB)\n",
            "Requirement already satisfied: tqdm<5.0.0,>=4.65.0 in /usr/local/lib/python3.10/dist-packages (from gpjax==0.8.2) (4.66.5)\n",
            "Requirement already satisfied: scipy in /usr/local/lib/python3.10/dist-packages (from cola-ml<0.0.6,>=0.0.5->gpjax==0.8.2) (1.13.1)\n",
            "Collecting cola-plum-dispatch==0.1.4 (from cola-ml<0.0.6,>=0.0.5->gpjax==0.8.2)\n",
            "  Downloading cola_plum_dispatch-0.1.4-py3-none-any.whl.metadata (4.1 kB)\n",
            "Requirement already satisfied: optree in /usr/local/lib/python3.10/dist-packages (from cola-ml<0.0.6,>=0.0.5->gpjax==0.8.2) (0.13.0)\n",
            "Collecting pytreeclass (from cola-ml<0.0.6,>=0.0.5->gpjax==0.8.2)\n",
            "  Downloading pytreeclass-0.9.2-py3-none-any.whl.metadata (21 kB)\n",
            "Requirement already satisfied: typing-extensions in /usr/local/lib/python3.10/dist-packages (from cola-plum-dispatch==0.1.4->cola-ml<0.0.6,>=0.0.5->gpjax==0.8.2) (4.12.2)\n",
            "Requirement already satisfied: ml-dtypes>=0.2.0 in /usr/local/lib/python3.10/dist-packages (from jax>=0.4.16->gpjax==0.8.2) (0.4.1)\n",
            "Requirement already satisfied: numpy>=1.24 in /usr/local/lib/python3.10/dist-packages (from jax>=0.4.16->gpjax==0.8.2) (1.26.4)\n",
            "Requirement already satisfied: opt-einsum in /usr/local/lib/python3.10/dist-packages (from jax>=0.4.16->gpjax==0.8.2) (3.4.0)\n",
            "Requirement already satisfied: typeguard==2.13.3 in /usr/local/lib/python3.10/dist-packages (from jaxtyping<0.3.0,>=0.2.15->gpjax==0.8.2) (2.13.3)\n",
            "Requirement already satisfied: absl-py>=0.7.1 in /usr/local/lib/python3.10/dist-packages (from optax<0.2.0,>=0.1.4->gpjax==0.8.2) (1.4.0)\n",
            "Requirement already satisfied: chex>=0.1.7 in /usr/local/lib/python3.10/dist-packages (from optax<0.2.0,>=0.1.4->gpjax==0.8.2) (0.1.87)\n",
            "Requirement already satisfied: etils[epath,epy] in /usr/local/lib/python3.10/dist-packages (from orbax-checkpoint>=0.2.3->gpjax==0.8.2) (1.9.4)\n",
            "Requirement already satisfied: msgpack in /usr/local/lib/python3.10/dist-packages (from orbax-checkpoint>=0.2.3->gpjax==0.8.2) (1.1.0)\n",
            "Requirement already satisfied: pyyaml in /usr/local/lib/python3.10/dist-packages (from orbax-checkpoint>=0.2.3->gpjax==0.8.2) (6.0.2)\n",
            "Requirement already satisfied: tensorstore>=0.1.60 in /usr/local/lib/python3.10/dist-packages (from orbax-checkpoint>=0.2.3->gpjax==0.8.2) (0.1.66)\n",
            "Requirement already satisfied: nest_asyncio in /usr/local/lib/python3.10/dist-packages (from orbax-checkpoint>=0.2.3->gpjax==0.8.2) (1.6.0)\n",
            "Requirement already satisfied: protobuf in /usr/local/lib/python3.10/dist-packages (from orbax-checkpoint>=0.2.3->gpjax==0.8.2) (3.20.3)\n",
            "Requirement already satisfied: humanize in /usr/local/lib/python3.10/dist-packages (from orbax-checkpoint>=0.2.3->gpjax==0.8.2) (4.10.0)\n",
            "Requirement already satisfied: six>=1.10.0 in /usr/local/lib/python3.10/dist-packages (from tensorflow-probability<0.23.0,>=0.22.0->gpjax==0.8.2) (1.16.0)\n",
            "Requirement already satisfied: decorator in /usr/local/lib/python3.10/dist-packages (from tensorflow-probability<0.23.0,>=0.22.0->gpjax==0.8.2) (4.4.2)\n",
            "Requirement already satisfied: cloudpickle>=1.3 in /usr/local/lib/python3.10/dist-packages (from tensorflow-probability<0.23.0,>=0.22.0->gpjax==0.8.2) (3.1.0)\n",
            "Requirement already satisfied: gast>=0.3.2 in /usr/local/lib/python3.10/dist-packages (from tensorflow-probability<0.23.0,>=0.22.0->gpjax==0.8.2) (0.6.0)\n",
            "Requirement already satisfied: dm-tree in /usr/local/lib/python3.10/dist-packages (from tensorflow-probability<0.23.0,>=0.22.0->gpjax==0.8.2) (0.1.8)\n",
            "Requirement already satisfied: toolz>=0.9.0 in /usr/local/lib/python3.10/dist-packages (from chex>=0.1.7->optax<0.2.0,>=0.1.4->gpjax==0.8.2) (0.12.1)\n",
            "Requirement already satisfied: fsspec in /usr/local/lib/python3.10/dist-packages (from etils[epath,epy]->orbax-checkpoint>=0.2.3->gpjax==0.8.2) (2024.6.1)\n",
            "Requirement already satisfied: importlib_resources in /usr/local/lib/python3.10/dist-packages (from etils[epath,epy]->orbax-checkpoint>=0.2.3->gpjax==0.8.2) (6.4.5)\n",
            "Requirement already satisfied: zipp in /usr/local/lib/python3.10/dist-packages (from etils[epath,epy]->orbax-checkpoint>=0.2.3->gpjax==0.8.2) (3.20.2)\n",
            "Downloading gpjax-0.8.2-py3-none-any.whl (111 kB)\n",
            "\u001b[2K   \u001b[90m━━━━━━━━━━━━━━━━━━━━━━━━━━━━━━━━━━━━━━━━\u001b[0m \u001b[32m111.6/111.6 kB\u001b[0m \u001b[31m2.4 MB/s\u001b[0m eta \u001b[36m0:00:00\u001b[0m\n",
            "\u001b[?25hDownloading beartype-0.16.4-py3-none-any.whl (819 kB)\n",
            "\u001b[2K   \u001b[90m━━━━━━━━━━━━━━━━━━━━━━━━━━━━━━━━━━━━━━━━\u001b[0m \u001b[32m819.1/819.1 kB\u001b[0m \u001b[31m11.0 MB/s\u001b[0m eta \u001b[36m0:00:00\u001b[0m\n",
            "\u001b[?25hDownloading cola_ml-0.0.5-py3-none-any.whl (68 kB)\n",
            "\u001b[2K   \u001b[90m━━━━━━━━━━━━━━━━━━━━━━━━━━━━━━━━━━━━━━━━\u001b[0m \u001b[32m68.3/68.3 kB\u001b[0m \u001b[31m2.6 MB/s\u001b[0m eta \u001b[36m0:00:00\u001b[0m\n",
            "\u001b[?25hDownloading cola_plum_dispatch-0.1.4-py3-none-any.whl (31 kB)\n",
            "Downloading jaxopt-0.8.3-py3-none-any.whl (172 kB)\n",
            "\u001b[2K   \u001b[90m━━━━━━━━━━━━━━━━━━━━━━━━━━━━━━━━━━━━━━━━\u001b[0m \u001b[32m172.3/172.3 kB\u001b[0m \u001b[31m7.6 MB/s\u001b[0m eta \u001b[36m0:00:00\u001b[0m\n",
            "\u001b[?25hDownloading optax-0.1.9-py3-none-any.whl (197 kB)\n",
            "\u001b[2K   \u001b[90m━━━━━━━━━━━━━━━━━━━━━━━━━━━━━━━━━━━━━━━━\u001b[0m \u001b[32m197.2/197.2 kB\u001b[0m \u001b[31m7.8 MB/s\u001b[0m eta \u001b[36m0:00:00\u001b[0m\n",
            "\u001b[?25hDownloading simple_pytree-0.1.7-py3-none-any.whl (5.5 kB)\n",
            "Downloading tensorflow_probability-0.22.1-py2.py3-none-any.whl (6.9 MB)\n",
            "\u001b[2K   \u001b[90m━━━━━━━━━━━━━━━━━━━━━━━━━━━━━━━━━━━━━━━━\u001b[0m \u001b[32m6.9/6.9 MB\u001b[0m \u001b[31m19.3 MB/s\u001b[0m eta \u001b[36m0:00:00\u001b[0m\n",
            "\u001b[?25hDownloading pytreeclass-0.9.2-py3-none-any.whl (46 kB)\n",
            "\u001b[2K   \u001b[90m━━━━━━━━━━━━━━━━━━━━━━━━━━━━━━━━━━━━━━━━\u001b[0m \u001b[32m46.2/46.2 kB\u001b[0m \u001b[31m1.6 MB/s\u001b[0m eta \u001b[36m0:00:00\u001b[0m\n",
            "\u001b[?25hInstalling collected packages: tensorflow-probability, beartype, cola-plum-dispatch, simple-pytree, pytreeclass, jaxopt, optax, cola-ml, gpjax\n",
            "  Attempting uninstall: tensorflow-probability\n",
            "    Found existing installation: tensorflow-probability 0.24.0\n",
            "    Uninstalling tensorflow-probability-0.24.0:\n",
            "      Successfully uninstalled tensorflow-probability-0.24.0\n",
            "  Attempting uninstall: optax\n",
            "    Found existing installation: optax 0.2.3\n",
            "    Uninstalling optax-0.2.3:\n",
            "      Successfully uninstalled optax-0.2.3\n",
            "Successfully installed beartype-0.16.4 cola-ml-0.0.5 cola-plum-dispatch-0.1.4 gpjax-0.8.2 jaxopt-0.8.3 optax-0.1.9 pytreeclass-0.9.2 simple-pytree-0.1.7 tensorflow-probability-0.22.1\n"
          ]
        }
      ],
      "source": [
        "pip install gpjax==0.8.2"
      ]
    },
    {
      "cell_type": "code",
      "source": [
        "pip install jax==0.4.31"
      ],
      "metadata": {
        "colab": {
          "base_uri": "https://localhost:8080/"
        },
        "id": "e-hX1ql7Qmcs",
        "outputId": "2978268b-0c32-403f-b3d9-55c5f910a93d"
      },
      "execution_count": 3,
      "outputs": [
        {
          "output_type": "stream",
          "name": "stdout",
          "text": [
            "Collecting jax==0.4.31\n",
            "  Downloading jax-0.4.31-py3-none-any.whl.metadata (22 kB)\n",
            "Collecting jaxlib<=0.4.31,>=0.4.30 (from jax==0.4.31)\n",
            "  Downloading jaxlib-0.4.31-cp310-cp310-manylinux2014_x86_64.whl.metadata (983 bytes)\n",
            "Requirement already satisfied: ml-dtypes>=0.2.0 in /usr/local/lib/python3.10/dist-packages (from jax==0.4.31) (0.4.1)\n",
            "Requirement already satisfied: numpy>=1.24 in /usr/local/lib/python3.10/dist-packages (from jax==0.4.31) (1.26.4)\n",
            "Requirement already satisfied: opt-einsum in /usr/local/lib/python3.10/dist-packages (from jax==0.4.31) (3.4.0)\n",
            "Requirement already satisfied: scipy>=1.10 in /usr/local/lib/python3.10/dist-packages (from jax==0.4.31) (1.13.1)\n",
            "Downloading jax-0.4.31-py3-none-any.whl (2.0 MB)\n",
            "\u001b[2K   \u001b[90m━━━━━━━━━━━━━━━━━━━━━━━━━━━━━━━━━━━━━━━━\u001b[0m \u001b[32m2.0/2.0 MB\u001b[0m \u001b[31m18.0 MB/s\u001b[0m eta \u001b[36m0:00:00\u001b[0m\n",
            "\u001b[?25hDownloading jaxlib-0.4.31-cp310-cp310-manylinux2014_x86_64.whl (88.1 MB)\n",
            "\u001b[2K   \u001b[90m━━━━━━━━━━━━━━━━━━━━━━━━━━━━━━━━━━━━━━━━\u001b[0m \u001b[32m88.1/88.1 MB\u001b[0m \u001b[31m8.2 MB/s\u001b[0m eta \u001b[36m0:00:00\u001b[0m\n",
            "\u001b[?25hInstalling collected packages: jaxlib, jax\n",
            "  Attempting uninstall: jaxlib\n",
            "    Found existing installation: jaxlib 0.4.33\n",
            "    Uninstalling jaxlib-0.4.33:\n",
            "      Successfully uninstalled jaxlib-0.4.33\n",
            "  Attempting uninstall: jax\n",
            "    Found existing installation: jax 0.4.33\n",
            "    Uninstalling jax-0.4.33:\n",
            "      Successfully uninstalled jax-0.4.33\n",
            "Successfully installed jax-0.4.31 jaxlib-0.4.31\n"
          ]
        }
      ]
    },
    {
      "cell_type": "code",
      "execution_count": 4,
      "metadata": {
        "colab": {
          "base_uri": "https://localhost:8080/"
        },
        "id": "7Ap_oV3sTAQg",
        "outputId": "f9c1480b-5ba4-4c30-a4dd-eee9ff155962"
      },
      "outputs": [
        {
          "output_type": "stream",
          "name": "stderr",
          "text": [
            "/usr/local/lib/python3.10/dist-packages/cola/backends/backends.py:75: FutureWarning: `torch.utils._pytree._register_pytree_node` is deprecated. Please use `torch.utils._pytree.register_pytree_node` instead.\n",
            "  torch.utils._pytree._register_pytree_node(cls, tree_flatten, tree_unflatten)\n"
          ]
        }
      ],
      "source": [
        "# Enable Float64 for more stable matrix inversions.\n",
        "from jax import config\n",
        "\n",
        "config.update(\"jax_enable_x64\", True)\n",
        "\n",
        "from jax import jit\n",
        "import jax.numpy as jnp\n",
        "import jax.random as jr\n",
        "from jaxtyping import install_import_hook\n",
        "import matplotlib as mpl\n",
        "import matplotlib.pyplot as plt\n",
        "import optax as ox\n",
        "\n",
        "with install_import_hook(\"gpjax\", \"beartype.beartype\"):\n",
        "    import gpjax as gpx\n",
        "\n",
        "from jax.scipy.special import logsumexp\n",
        "from jax.scipy.stats import norm as norm\n",
        "import cola\n",
        "\n",
        "\n",
        "key = jr.PRNGKey(123)"
      ]
    },
    {
      "cell_type": "code",
      "source": [
        "pip install cola-ml==0.0.5"
      ],
      "metadata": {
        "colab": {
          "base_uri": "https://localhost:8080/",
          "height": 652
        },
        "id": "S-s9m9hmU15G",
        "outputId": "2527dd15-b7d1-4b34-8994-744ff7c82b8f"
      },
      "execution_count": 7,
      "outputs": [
        {
          "output_type": "stream",
          "name": "stdout",
          "text": [
            "Collecting cola-ml==0.0.5\n",
            "  Downloading cola_ml-0.0.5-py3-none-any.whl.metadata (7.4 kB)\n",
            "Requirement already satisfied: scipy in /usr/local/lib/python3.10/dist-packages (from cola-ml==0.0.5) (1.13.1)\n",
            "Requirement already satisfied: tqdm>=4.38 in /usr/local/lib/python3.10/dist-packages (from cola-ml==0.0.5) (4.66.5)\n",
            "Collecting cola-plum-dispatch==0.1.4 (from cola-ml==0.0.5)\n",
            "  Downloading cola_plum_dispatch-0.1.4-py3-none-any.whl.metadata (4.1 kB)\n",
            "Requirement already satisfied: optree in /usr/local/lib/python3.10/dist-packages (from cola-ml==0.0.5) (0.13.0)\n",
            "Collecting pytreeclass (from cola-ml==0.0.5)\n",
            "  Downloading pytreeclass-0.9.2-py3-none-any.whl.metadata (21 kB)\n",
            "Requirement already satisfied: beartype>=0.16.2 in /usr/local/lib/python3.10/dist-packages (from cola-plum-dispatch==0.1.4->cola-ml==0.0.5) (0.19.0)\n",
            "Requirement already satisfied: typing-extensions in /usr/local/lib/python3.10/dist-packages (from cola-plum-dispatch==0.1.4->cola-ml==0.0.5) (4.12.2)\n",
            "Requirement already satisfied: jax>=0.4.7 in /usr/local/lib/python3.10/dist-packages (from pytreeclass->cola-ml==0.0.5) (0.4.33)\n",
            "Requirement already satisfied: numpy<2.3,>=1.22.4 in /usr/local/lib/python3.10/dist-packages (from scipy->cola-ml==0.0.5) (1.26.4)\n",
            "Requirement already satisfied: jaxlib<=0.4.33,>=0.4.33 in /usr/local/lib/python3.10/dist-packages (from jax>=0.4.7->pytreeclass->cola-ml==0.0.5) (0.4.33)\n",
            "Requirement already satisfied: ml-dtypes>=0.2.0 in /usr/local/lib/python3.10/dist-packages (from jax>=0.4.7->pytreeclass->cola-ml==0.0.5) (0.4.1)\n",
            "Requirement already satisfied: opt-einsum in /usr/local/lib/python3.10/dist-packages (from jax>=0.4.7->pytreeclass->cola-ml==0.0.5) (3.4.0)\n",
            "Downloading cola_ml-0.0.5-py3-none-any.whl (68 kB)\n",
            "\u001b[2K   \u001b[90m━━━━━━━━━━━━━━━━━━━━━━━━━━━━━━━━━━━━━━━━\u001b[0m \u001b[32m68.3/68.3 kB\u001b[0m \u001b[31m2.8 MB/s\u001b[0m eta \u001b[36m0:00:00\u001b[0m\n",
            "\u001b[?25hDownloading cola_plum_dispatch-0.1.4-py3-none-any.whl (31 kB)\n",
            "Downloading pytreeclass-0.9.2-py3-none-any.whl (46 kB)\n",
            "\u001b[2K   \u001b[90m━━━━━━━━━━━━━━━━━━━━━━━━━━━━━━━━━━━━━━━━\u001b[0m \u001b[32m46.2/46.2 kB\u001b[0m \u001b[31m3.3 MB/s\u001b[0m eta \u001b[36m0:00:00\u001b[0m\n",
            "\u001b[?25hInstalling collected packages: cola-plum-dispatch, pytreeclass, cola-ml\n",
            "  Attempting uninstall: cola-plum-dispatch\n",
            "    Found existing installation: cola-plum-dispatch 0.1.1\n",
            "    Uninstalling cola-plum-dispatch-0.1.1:\n",
            "      Successfully uninstalled cola-plum-dispatch-0.1.1\n",
            "  Attempting uninstall: cola-ml\n",
            "    Found existing installation: cola-ml 0.0.4\n",
            "    Uninstalling cola-ml-0.0.4:\n",
            "      Successfully uninstalled cola-ml-0.0.4\n",
            "Successfully installed cola-ml-0.0.5 cola-plum-dispatch-0.1.4 pytreeclass-0.9.2\n"
          ]
        },
        {
          "output_type": "display_data",
          "data": {
            "application/vnd.colab-display-data+json": {
              "pip_warning": {
                "packages": [
                  "cola"
                ]
              },
              "id": "93ee9b5371f54fd3905285c196413efe"
            }
          },
          "metadata": {}
        }
      ]
    },
    {
      "cell_type": "code",
      "source": [
        "import cola"
      ],
      "metadata": {
        "colab": {
          "base_uri": "https://localhost:8080/"
        },
        "id": "wErNRfrQWD4i",
        "outputId": "45d85035-75ff-473f-8d3d-34cd13c2ef03"
      },
      "execution_count": 5,
      "outputs": [
        {
          "output_type": "stream",
          "name": "stderr",
          "text": [
            "/usr/local/lib/python3.10/dist-packages/cola/backends/backends.py:75: FutureWarning: `torch.utils._pytree._register_pytree_node` is deprecated. Please use `torch.utils._pytree.register_pytree_node` instead.\n",
            "  torch.utils._pytree._register_pytree_node(cls, tree_flatten, tree_unflatten)\n"
          ]
        }
      ]
    },
    {
      "cell_type": "code",
      "source": [
        "print(cola.__version__)"
      ],
      "metadata": {
        "colab": {
          "base_uri": "https://localhost:8080/"
        },
        "id": "hmjVjHKSVSTs",
        "outputId": "0ee4d76e-59d2-4461-fc71-7527d028fce7"
      },
      "execution_count": 6,
      "outputs": [
        {
          "output_type": "stream",
          "name": "stdout",
          "text": [
            "0.0.4\n"
          ]
        }
      ]
    },
    {
      "cell_type": "code",
      "execution_count": 5,
      "metadata": {
        "id": "LSpXqFoGzmAy"
      },
      "outputs": [],
      "source": [
        "import numpy as np\n",
        "#from jax.scipy.special import log1p"
      ]
    },
    {
      "cell_type": "code",
      "source": [
        "key = jr.PRNGKey(123)"
      ],
      "metadata": {
        "id": "dECvQztqN905"
      },
      "execution_count": 6,
      "outputs": []
    },
    {
      "cell_type": "code",
      "source": [
        "key"
      ],
      "metadata": {
        "colab": {
          "base_uri": "https://localhost:8080/"
        },
        "id": "a2CXs8aqPXX6",
        "outputId": "5a8ff0ad-ad86-4d2c-dff3-e352ff62540f"
      },
      "execution_count": 7,
      "outputs": [
        {
          "output_type": "execute_result",
          "data": {
            "text/plain": [
              "Array([  0, 123], dtype=uint32)"
            ]
          },
          "metadata": {},
          "execution_count": 7
        }
      ]
    },
    {
      "cell_type": "markdown",
      "source": [
        "The below function fits the GP and optimises it."
      ],
      "metadata": {
        "id": "lfaA9cI-H8EV"
      }
    },
    {
      "cell_type": "code",
      "execution_count": 8,
      "metadata": {
        "id": "61Bd-biWTAQm"
      },
      "outputs": [],
      "source": [
        "# Define the negative log marginal likelihood\n",
        "negative_mll = gpx.objectives.ConjugateMLL(negative=True)\n",
        "negative_mll = jit(negative_mll)\n",
        "#from gpjax.parameters import Static\n",
        "\n",
        "def fit_gp(x,y, key, do_optimize=True, obs_stddev=1e-3):\n",
        "    \"\"\"Fit a GP to the data (x,y) using the negative log marginal likelihood as the objective function.\n",
        "    Args:\n",
        "        x: input data\n",
        "        y: output data\n",
        "        key: random key\n",
        "        do_optimize: whether to optimize the hyperparameters\n",
        "        obs_stddev: observation noise\n",
        "    Returns:\n",
        "        posterior: the posterior distribution\n",
        "    \"\"\"\n",
        "\n",
        "    D = gpx.Dataset(x, y)\n",
        "\n",
        "    kernel = gpx.kernels.RBF()\n",
        "    meanf = gpx.mean_functions.Zero()\n",
        "    prior = gpx.gps.Prior(mean_function=meanf, kernel=kernel)\n",
        "\n",
        "    likelihood = gpx.likelihoods.Gaussian(num_datapoints=D.n,obs_stddev=jnp.array(1e-3))  # Our function is noise-free, so we set the observation noise's standard deviation to a very small value\n",
        "    likelihood = likelihood.replace_trainable(obs_stddev=False)\n",
        "    posterior = prior * likelihood\n",
        "    '''suggestion:<300 points reestimate hyperparameters else every 10'''\n",
        "    if do_optimize:\n",
        "        # optimize the hyperparameters using Adam (this isn't great, but it works)\n",
        "        # TODO: use a better optimizer\n",
        "        # the optimizer needs optax to work\n",
        "        opt_posterior, a = gpx.fit(\n",
        "        model=posterior,\n",
        "        objective= negative_mll,\n",
        "        num_iters=1000,\n",
        "        train_data=D,\n",
        "        optim=ox.adamw(learning_rate=0.01),safe=True,\n",
        "        key = key)\n",
        "\n",
        "        return opt_posterior\n",
        "    else:\n",
        "        return posterior\n",
        "\n",
        "\n",
        "def evaluate_posterior(x,y, x_eval, key, do_optimize=True, obs_stddev=1e-3):\n",
        "    \"\"\"Evaluate the posterior predictive distribution at x_eval.\n",
        "    Args:\n",
        "        x: input data\n",
        "        y: output data\n",
        "        x_eval: points at which to evaluate the posterior predictive distribution\n",
        "        do_optimize: whether to optimize the hyperparameters\n",
        "        obs_stddev: observation noise\n",
        "    Returns:\n",
        "        predictive_mean: mean of the posterior predictive distribution\n",
        "        predictive_std: standard deviation of the posterior predictive distribution\n",
        "    \"\"\"\n",
        "\n",
        "    D = gpx.Dataset(x, y)\n",
        "\n",
        "    posterior = fit_gp(x,y, key, do_optimize=do_optimize, obs_stddev=obs_stddev)\n",
        "\n",
        "\n",
        "    latent_dist = posterior.predict(x_eval, train_data=D)\n",
        "    predictive_dist = posterior.likelihood(latent_dist)\n",
        "\n",
        "    predictive_mean = predictive_dist.mean()\n",
        "    predictive_std = predictive_dist.stddev()\n",
        "\n",
        "    return predictive_mean, predictive_std"
      ]
    },
    {
      "cell_type": "code",
      "execution_count": 9,
      "metadata": {
        "id": "qL5OTUoPTAQq"
      },
      "outputs": [],
      "source": [
        "# this computes k_t, the two point covariance function\n",
        "def two_point_covariance(x_current, X, Y, posterior, jitter=1e-6):\n",
        "    \"\"\"Compute the two point covariance function.\n",
        "    Args:\n",
        "        x_current: current point\n",
        "        X: input data\n",
        "        Y: output data\n",
        "        posterior: posterior distribution\n",
        "        jitter: jitter for numerical stability\n",
        "    Returns:\n",
        "        covariance: two point covariance function\n",
        "    \"\"\"\n",
        "    kernel = posterior.prior.kernel\n",
        "    obs_noise = posterior.likelihood.obs_stddev**2\n",
        "\n",
        "    Kxx = kernel.gram(x_current)\n",
        "    Kxx += cola.ops.I_like(Kxx) * obs_noise\n",
        "\n",
        "    #Sigma = Kxx + cola.ops.I_like(Kxx) * obs_noise\n",
        "    #Sigma = cola.PSD(Sigma)\n",
        "\n",
        "    KXY = kernel.cross_covariance(X, Y)\n",
        "    KXx = kernel.cross_covariance(X, x_current)\n",
        "    KxY = kernel.cross_covariance(x_current, Y)\n",
        "\n",
        "\n",
        "    Sigma_inv_KxY = cola.solve(Kxx, KxY)\n",
        "\n",
        "    covariance = KXY - jnp.matmul(KXx, Sigma_inv_KxY)\n",
        "\n",
        "    return covariance"
      ]
    },
    {
      "cell_type": "markdown",
      "source": [
        "## 2023 paper"
      ],
      "metadata": {
        "id": "nFnoE3yKAe2b"
      }
    },
    {
      "cell_type": "code",
      "source": [],
      "metadata": {
        "id": "zoaw-_eOAdp5"
      },
      "execution_count": 9,
      "outputs": []
    },
    {
      "cell_type": "code",
      "execution_count": 10,
      "metadata": {
        "id": "2565F5QZPukp"
      },
      "outputs": [],
      "source": [
        "# This calculates the reduction of variance when new points are considered\n",
        "def loss_2023papernew(posterior, x_current, y_current, x_new, x_grid, key, obs_stddev=1e-3):\n",
        "    \"\"\"Evaluate the loss at x_new.\n",
        "    The code is vectorised over x_new, so you can just pass in a full grid of test points to evaluate it at\n",
        "\n",
        "    This version removes the terms that don't depend on x_new, so it's faster than loss_fast.\n",
        "    Args:\n",
        "        x_current: training data\n",
        "        y_current: training data likelihoods\n",
        "        x_new: point(s) at which to evaluate the risk function\n",
        "        x_grid: points at which to evaluate the posterior predictive distribution\n",
        "        key: random key\n",
        "        obs_stddev: observation noise\n",
        "    Returns:\n",
        "        risk_value: risk function value\n",
        "    \"\"\"\n",
        "    #D = gpx.Dataset(x_current, y_current)\n",
        "\n",
        "    #posterior = fit_gp(x_current, y_current, key, do_optimize=True, obs_stddev=obs_stddev)\n",
        "\n",
        "    latent_dist = posterior.predict(x_new, train_data=D)\n",
        "    predictive_dist = posterior.likelihood(latent_dist)\n",
        "\n",
        "    p_mean = predictive_dist.mean()#.reshape(-1,1)\n",
        "    p_std = predictive_dist.stddev()#.reshape(-1,1)\n",
        "\n",
        "    C = two_point_covariance(x_current, x_grid, x_new, posterior)\n",
        "    #print(np.shape(C))\n",
        "\n",
        "\n",
        "    tau2 = (C[0]-C[1])**2/(p_std**2 + obs_stddev**2)\n",
        "    # utility_value =  jnp.mean(jnp.exp(2.0*p_mean**2 + p_std**2 - offset)*(jnp.exp(p_std**2) - jnp.exp(tau2)), axis=0)\n",
        "\n",
        "    #log_loss = -logsumexp(2.0*p_mean + p_std**2 + tau2, axis=0)\n",
        "\n",
        "    #return(log_loss)\n",
        "    #print(np.shape(tau2))\n",
        "    return(tau2)"
      ]
    },
    {
      "cell_type": "code",
      "execution_count": 11,
      "metadata": {
        "id": "wn2MLtz10LYy"
      },
      "outputs": [],
      "source": [
        "# conditional error of accept reject\n",
        "def log_epsilon_gamma(m,v,u):\n",
        "  return norm.logcdf(-jnp.abs(m-jnp.log(u)/jnp.sqrt(v)))"
      ]
    },
    {
      "cell_type": "code",
      "execution_count": 12,
      "metadata": {
        "id": "uaLS8cb5Fuha"
      },
      "outputs": [],
      "source": [
        "# unconditional error of accept-reject\n",
        "def expected(m,v):\n",
        "  v1=np.sqrt(v)\n",
        "  if m>=0:\n",
        "    return norm.cdf(-m/v1)-jnp.exp(m+(v/2))*norm.cdf(-(m/v1+v1))\n",
        "  else:\n",
        "    return norm.cdf(m/v1)+jnp.exp(m+(v/2))*(norm.cdf(-(m/v1+v1))-2*norm.cdf(-v1))"
      ]
    },
    {
      "cell_type": "code",
      "execution_count": 13,
      "metadata": {
        "id": "DicpCKk_9qZ6"
      },
      "outputs": [],
      "source": [
        "# make new eval posterior for this situation\n",
        "def gpmh_eval_posterior1(posterior,x_prop,x_now,key,obs_stddev, D):\n",
        "  x_eval = jnp.vstack([x_now,x_prop])\n",
        "\n",
        "  x_eval = x_eval.reshape(-1,1)\n",
        "  #D = gpx.Dataset(x_current, y_current)\n",
        "\n",
        "  #posterior = fit_gp(x_current, y_current, key, do_optimize=False, obs_stddev=obs_stddev)\n",
        "\n",
        "  latent_dist = posterior.predict(x_eval, train_data=D)\n",
        "  predictive_dist = posterior.likelihood(latent_dist)\n",
        "  m = predictive_dist.mean().reshape(-1,1)\n",
        "  v = predictive_dist.stddev().reshape(-1,1)\n",
        "  C = two_point_covariance(x_current, x_eval[0].reshape(-1,1), x_eval[1].reshape(-1,1), posterior)\n",
        "  #print(m,x_eval)\n",
        "  return m[1]-m[0],v[0]**2 + v[1]**2 - 2*C"
      ]
    },
    {
      "cell_type": "code",
      "execution_count": 14,
      "metadata": {
        "id": "HRTVev-eOwoy"
      },
      "outputs": [],
      "source": [
        "#make new eval posterior for this situation\n",
        "def gpmh_eval_posterior_2d(posterior,x_current,x_prop,x_now,key,obs_stddev, D):\n",
        "  \"\"\"Predicts the predicted mean and predicted varaiance\n",
        "\n",
        "    Args:\n",
        "        posterior: posterior fitted to dataset\n",
        "        x_current: training data\n",
        "        x_prop: proposed state\n",
        "        x_now: current state\n",
        "        key: random key\n",
        "        obs_stddev: observation noise\n",
        "        D: dataset to which the GP is fitted\n",
        "    Returns:\n",
        "        risk_value: risk function value\n",
        "  \"\"\"\n",
        "  x_eval = jnp.vstack((x_now,x_prop))\n",
        "\n",
        "\n",
        "  latent_dist = posterior.predict(x_eval, train_data=D)\n",
        "  predictive_dist = posterior.likelihood(latent_dist)\n",
        "  m = predictive_dist.mean().reshape(-1,1)\n",
        "  v = predictive_dist.stddev().reshape(-1,1)\n",
        "  C = two_point_covariance(x_current, jnp.array([x_eval[0]]), jnp.array([x_eval[1]]), posterior)\n",
        "\n",
        "\n",
        "  return m[1]-m[0],v[0]**2 + v[1]**2 - 2*C-2*posterior.likelihood.obs_stddev**2"
      ]
    },
    {
      "cell_type": "code",
      "execution_count": 15,
      "metadata": {
        "id": "kgZvsLn0wQRz",
        "colab": {
          "base_uri": "https://localhost:8080/"
        },
        "outputId": "6f14406a-ba5c-4b0e-8843-07c570fc7750"
      },
      "outputs": [
        {
          "output_type": "stream",
          "name": "stdout",
          "text": [
            "The point is outside the box.\n"
          ]
        }
      ],
      "source": [
        "def is_point_in_box(point, min_corner, max_corner):\n",
        "    \"\"\"\n",
        "    Check if a point is inside an axis-aligned box.\n",
        "\n",
        "    Parameters:\n",
        "    point (array-like): Coordinates of the point (e.g., [x, y, z]).\n",
        "    min_corner (array-like): Coordinates of the minimum corner of the box.\n",
        "    max_corner (array-like): Coordinates of the maximum corner of the box.\n",
        "\n",
        "    Returns:\n",
        "    bool: True if the point is inside the box, False otherwise.\n",
        "    \"\"\"\n",
        "    # Convert inputs to numpy arrays for element-wise operations\n",
        "\n",
        "    min_corner = jnp.array(min_corner)\n",
        "    max_corner = jnp.array(max_corner)\n",
        "\n",
        "    # Check if the point is within the bounds\n",
        "    return jnp.all(point >= min_corner) and jnp.all(point <= max_corner)\n",
        "\n",
        "# Example usage with arrays:\n",
        "point = jnp.array([7,3,4])\n",
        "min_corner = jnp.array([1, 2, 3])\n",
        "max_corner = jnp.array([5, 6, 7])\n",
        "\n",
        "if is_point_in_box(point, min_corner, max_corner):\n",
        "    print(\"The point is inside the box.\")\n",
        "else:\n",
        "    print(\"The point is outside the box.\")"
      ]
    },
    {
      "cell_type": "code",
      "source": [
        "def gpmh_eval_posterior_wp(posterior,x_current,x_prop,x_now,key,obs_stddev, D ,min,max):\n",
        "  x_eval = jnp.vstack((x_now,x_prop))\n",
        "  latent_dist = posterior.predict(x_eval, train_data=D)\n",
        "  predictive_dist = posterior.likelihood(latent_dist)\n",
        "  v = predictive_dist.stddev().reshape(-1,1)\n",
        "  C = two_point_covariance(x_current, jnp.array([x_eval[0]]), jnp.array([x_eval[1]]), posterior)\n",
        "  #x_eval = x_eval.reshape(-1,1)\n",
        "  #D = gpx.Dataset(x_current, y_current)\n",
        "  if not is_point_in_box(x_prop,min,max):\n",
        "    mean= -(1e+5)\n",
        "\n",
        "  else:\n",
        "    m = predictive_dist.mean().reshape(-1,1)\n",
        "    mean= m[1]-m[0]\n",
        "\n",
        "\n",
        "  return mean,v[0]**2 + v[1]**2 - 2*C-2*posterior.likelihood.obs_stddev**2"
      ],
      "metadata": {
        "id": "cI0Jrvf_IbY8"
      },
      "execution_count": 16,
      "outputs": []
    },
    {
      "cell_type": "code",
      "source": [
        "from sklearn.metrics import pairwise_distances\n",
        "def remove_close_rows(arr1, arr2, threshold=1e-6):\n",
        "    # Compute the distance between each pair of rows\n",
        "    distances = pairwise_distances(arr1,arr2)\n",
        "    #print(distances)\n",
        "\n",
        "    # Check if any distance is below the threshold for each row in arr1\n",
        "    is_close = jnp.any(distances < threshold, axis=1)\n",
        "\n",
        "    # Keep rows that are not close to any row in arr2\n",
        "    result = arr1[~is_close]\n",
        "\n",
        "    return result"
      ],
      "metadata": {
        "id": "96Htin4MBl6i"
      },
      "execution_count": 17,
      "outputs": []
    },
    {
      "cell_type": "code",
      "execution_count": 22,
      "metadata": {
        "id": "EmccojCywpSH",
        "colab": {
          "base_uri": "https://localhost:8080/",
          "height": 1000,
          "referenced_widgets": [
            "fd80e7a6709d4d769f2f3446387e53b3",
            "1cee860166864e918dcd74c5dd5807c5",
            "6951ee5eed514243a23cb2d509d9cc77",
            "0512c6b84dd146c59b841b44320c3e47",
            "6182185999e74738aa728b5c42230c22",
            "9217c16fe8e14cc2b52b9e9b5b518ef8",
            "21dc5d49498f4d39afe9c4ead130a03c",
            "f9aaaad9c73043efbc635007d9ebf40c",
            "c99aa3cb4dcb4964a548ac6b4e4e375a",
            "6b5306545805411a82ff6f48a1bc230f",
            "223008156e39494697d55699de9b76b0"
          ]
        },
        "outputId": "e1ad00ba-78aa-45ae-af97-fd86a39adc15",
        "collapsed": true
      },
      "outputs": [
        {
          "output_type": "display_data",
          "data": {
            "text/plain": [
              "  0%|          | 0/1000 [00:00<?, ?it/s]"
            ],
            "application/vnd.jupyter.widget-view+json": {
              "version_major": 2,
              "version_minor": 0,
              "model_id": "fd80e7a6709d4d769f2f3446387e53b3"
            }
          },
          "metadata": {}
        },
        {
          "output_type": "stream",
          "name": "stderr",
          "text": [
            "/usr/local/lib/python3.10/dist-packages/cola/backends/backends.py:75: FutureWarning: `torch.utils._pytree._register_pytree_node` is deprecated. Please use `torch.utils._pytree.register_pytree_node` instead.\n",
            "  torch.utils._pytree._register_pytree_node(cls, tree_flatten, tree_unflatten)\n",
            "/usr/local/lib/python3.10/dist-packages/cola/backends/backends.py:75: FutureWarning: `torch.utils._pytree._register_pytree_node` is deprecated. Please use `torch.utils._pytree.register_pytree_node` instead.\n",
            "  torch.utils._pytree._register_pytree_node(cls, tree_flatten, tree_unflatten)\n"
          ]
        },
        {
          "output_type": "error",
          "ename": "TypeError",
          "evalue": "'Device' object is not callable",
          "traceback": [
            "\u001b[0;31m---------------------------------------------------------------------------\u001b[0m",
            "\u001b[0;31mTypeError\u001b[0m                                 Traceback (most recent call last)",
            "\u001b[0;32m<ipython-input-22-32249d922c43>\u001b[0m in \u001b[0;36m<cell line: 33>\u001b[0;34m()\u001b[0m\n\u001b[1;32m     44\u001b[0m   \u001b[0mparams_now\u001b[0m\u001b[0;34m=\u001b[0m\u001b[0mmh_samples\u001b[0m\u001b[0;34m[\u001b[0m\u001b[0mi\u001b[0m\u001b[0;34m-\u001b[0m\u001b[0;36m1\u001b[0m\u001b[0;34m]\u001b[0m\u001b[0;34m\u001b[0m\u001b[0;34m\u001b[0m\u001b[0m\n\u001b[1;32m     45\u001b[0m   \u001b[0;31m# find mean and variance of log likelihood ratio at proposal and prev point\u001b[0m\u001b[0;34m\u001b[0m\u001b[0;34m\u001b[0m\u001b[0m\n\u001b[0;32m---> 46\u001b[0;31m   \u001b[0mm\u001b[0m\u001b[0;34m,\u001b[0m\u001b[0mv\u001b[0m \u001b[0;34m=\u001b[0m \u001b[0mgpmh_eval_posterior_wp\u001b[0m\u001b[0;34m(\u001b[0m\u001b[0mposterior\u001b[0m\u001b[0;34m,\u001b[0m\u001b[0mparams_current\u001b[0m\u001b[0;34m,\u001b[0m\u001b[0mparams_prop\u001b[0m\u001b[0;34m,\u001b[0m\u001b[0mparams_now\u001b[0m\u001b[0;34m,\u001b[0m\u001b[0mkey\u001b[0m\u001b[0;34m,\u001b[0m\u001b[0mobs_stddev\u001b[0m\u001b[0;34m,\u001b[0m\u001b[0mD\u001b[0m\u001b[0;34m,\u001b[0m\u001b[0mmini\u001b[0m\u001b[0;34m,\u001b[0m\u001b[0mmaxi\u001b[0m\u001b[0;34m)\u001b[0m\u001b[0;34m\u001b[0m\u001b[0;34m\u001b[0m\u001b[0m\n\u001b[0m\u001b[1;32m     47\u001b[0m \u001b[0;34m\u001b[0m\u001b[0m\n\u001b[1;32m     48\u001b[0m   \u001b[0mprint\u001b[0m\u001b[0;34m(\u001b[0m\u001b[0;34m'step'\u001b[0m\u001b[0;34m,\u001b[0m\u001b[0mi\u001b[0m\u001b[0;34m,\u001b[0m\u001b[0;34m'm'\u001b[0m\u001b[0;34m,\u001b[0m\u001b[0mm\u001b[0m\u001b[0;34m,\u001b[0m\u001b[0;34m'v'\u001b[0m\u001b[0;34m,\u001b[0m\u001b[0mv\u001b[0m\u001b[0;34m,\u001b[0m\u001b[0mlog_epsilon_gamma\u001b[0m\u001b[0;34m(\u001b[0m\u001b[0mm\u001b[0m\u001b[0;34m,\u001b[0m\u001b[0mv\u001b[0m\u001b[0;34m,\u001b[0m\u001b[0mu\u001b[0m\u001b[0;34m)\u001b[0m\u001b[0;34m,\u001b[0m\u001b[0mexpected1\u001b[0m\u001b[0;34m(\u001b[0m\u001b[0mm\u001b[0m\u001b[0;34m,\u001b[0m\u001b[0mv\u001b[0m\u001b[0;34m)\u001b[0m\u001b[0;34m,\u001b[0m\u001b[0mexpected\u001b[0m\u001b[0;34m(\u001b[0m\u001b[0mm\u001b[0m\u001b[0;34m,\u001b[0m\u001b[0mv\u001b[0m\u001b[0;34m)\u001b[0m\u001b[0;34m,\u001b[0m\u001b[0mjnp\u001b[0m\u001b[0;34m.\u001b[0m\u001b[0mlog\u001b[0m\u001b[0;34m(\u001b[0m\u001b[0mepsilon\u001b[0m\u001b[0;34m)\u001b[0m\u001b[0;34m,\u001b[0m\u001b[0;34m'Current'\u001b[0m\u001b[0;34m,\u001b[0m\u001b[0mparams_now\u001b[0m\u001b[0;34m,\u001b[0m\u001b[0;34m'proposed'\u001b[0m\u001b[0;34m,\u001b[0m\u001b[0mparams_prop\u001b[0m\u001b[0;34m,\u001b[0m\u001b[0mposterior\u001b[0m\u001b[0;34m.\u001b[0m\u001b[0mlikelihood\u001b[0m\u001b[0;34m.\u001b[0m\u001b[0mobs_stddev\u001b[0m\u001b[0;34m**\u001b[0m\u001b[0;36m2\u001b[0m\u001b[0;34m)\u001b[0m\u001b[0;34m\u001b[0m\u001b[0;34m\u001b[0m\u001b[0m\n",
            "\u001b[0;32m<ipython-input-16-01231ea63c5d>\u001b[0m in \u001b[0;36mgpmh_eval_posterior_wp\u001b[0;34m(posterior, x_current, x_prop, x_now, key, obs_stddev, D, min, max)\u001b[0m\n\u001b[1;32m      1\u001b[0m \u001b[0;32mdef\u001b[0m \u001b[0mgpmh_eval_posterior_wp\u001b[0m\u001b[0;34m(\u001b[0m\u001b[0mposterior\u001b[0m\u001b[0;34m,\u001b[0m\u001b[0mx_current\u001b[0m\u001b[0;34m,\u001b[0m\u001b[0mx_prop\u001b[0m\u001b[0;34m,\u001b[0m\u001b[0mx_now\u001b[0m\u001b[0;34m,\u001b[0m\u001b[0mkey\u001b[0m\u001b[0;34m,\u001b[0m\u001b[0mobs_stddev\u001b[0m\u001b[0;34m,\u001b[0m \u001b[0mD\u001b[0m \u001b[0;34m,\u001b[0m\u001b[0mmin\u001b[0m\u001b[0;34m,\u001b[0m\u001b[0mmax\u001b[0m\u001b[0;34m)\u001b[0m\u001b[0;34m:\u001b[0m\u001b[0;34m\u001b[0m\u001b[0;34m\u001b[0m\u001b[0m\n\u001b[1;32m      2\u001b[0m   \u001b[0mx_eval\u001b[0m \u001b[0;34m=\u001b[0m \u001b[0mjnp\u001b[0m\u001b[0;34m.\u001b[0m\u001b[0mvstack\u001b[0m\u001b[0;34m(\u001b[0m\u001b[0;34m(\u001b[0m\u001b[0mx_now\u001b[0m\u001b[0;34m,\u001b[0m\u001b[0mx_prop\u001b[0m\u001b[0;34m)\u001b[0m\u001b[0;34m)\u001b[0m\u001b[0;34m\u001b[0m\u001b[0;34m\u001b[0m\u001b[0m\n\u001b[0;32m----> 3\u001b[0;31m   \u001b[0mlatent_dist\u001b[0m \u001b[0;34m=\u001b[0m \u001b[0mposterior\u001b[0m\u001b[0;34m.\u001b[0m\u001b[0mpredict\u001b[0m\u001b[0;34m(\u001b[0m\u001b[0mx_eval\u001b[0m\u001b[0;34m,\u001b[0m \u001b[0mtrain_data\u001b[0m\u001b[0;34m=\u001b[0m\u001b[0mD\u001b[0m\u001b[0;34m)\u001b[0m\u001b[0;34m\u001b[0m\u001b[0;34m\u001b[0m\u001b[0m\n\u001b[0m\u001b[1;32m      4\u001b[0m   \u001b[0mpredictive_dist\u001b[0m \u001b[0;34m=\u001b[0m \u001b[0mposterior\u001b[0m\u001b[0;34m.\u001b[0m\u001b[0mlikelihood\u001b[0m\u001b[0;34m(\u001b[0m\u001b[0mlatent_dist\u001b[0m\u001b[0;34m)\u001b[0m\u001b[0;34m\u001b[0m\u001b[0;34m\u001b[0m\u001b[0m\n\u001b[1;32m      5\u001b[0m   \u001b[0mv\u001b[0m \u001b[0;34m=\u001b[0m \u001b[0mpredictive_dist\u001b[0m\u001b[0;34m.\u001b[0m\u001b[0mstddev\u001b[0m\u001b[0;34m(\u001b[0m\u001b[0;34m)\u001b[0m\u001b[0;34m.\u001b[0m\u001b[0mreshape\u001b[0m\u001b[0;34m(\u001b[0m\u001b[0;34m-\u001b[0m\u001b[0;36m1\u001b[0m\u001b[0;34m,\u001b[0m\u001b[0;36m1\u001b[0m\u001b[0;34m)\u001b[0m\u001b[0;34m\u001b[0m\u001b[0;34m\u001b[0m\u001b[0m\n",
            "    \u001b[0;31m[... skipping hidden 1 frame]\u001b[0m\n",
            "\u001b[0;32m/usr/local/lib/python3.10/dist-packages/gpjax/gps.py\u001b[0m in \u001b[0;36mpredict\u001b[0;34m(self, test_inputs, train_data)\u001b[0m\n\u001b[1;32m    523\u001b[0m \u001b[0;34m\u001b[0m\u001b[0m\n\u001b[1;32m    524\u001b[0m         \u001b[0;31m# Precompute Gram matrix, Kxx, at training inputs, x\u001b[0m\u001b[0;34m\u001b[0m\u001b[0;34m\u001b[0m\u001b[0m\n\u001b[0;32m--> 525\u001b[0;31m         \u001b[0mKxx\u001b[0m \u001b[0;34m=\u001b[0m \u001b[0mself\u001b[0m\u001b[0;34m.\u001b[0m\u001b[0mprior\u001b[0m\u001b[0;34m.\u001b[0m\u001b[0mkernel\u001b[0m\u001b[0;34m.\u001b[0m\u001b[0mgram\u001b[0m\u001b[0;34m(\u001b[0m\u001b[0mx\u001b[0m\u001b[0;34m)\u001b[0m\u001b[0;34m\u001b[0m\u001b[0;34m\u001b[0m\u001b[0m\n\u001b[0m\u001b[1;32m    526\u001b[0m         \u001b[0mKxx\u001b[0m \u001b[0;34m+=\u001b[0m \u001b[0mcola\u001b[0m\u001b[0;34m.\u001b[0m\u001b[0mops\u001b[0m\u001b[0;34m.\u001b[0m\u001b[0mI_like\u001b[0m\u001b[0;34m(\u001b[0m\u001b[0mKxx\u001b[0m\u001b[0;34m)\u001b[0m \u001b[0;34m*\u001b[0m \u001b[0mself\u001b[0m\u001b[0;34m.\u001b[0m\u001b[0mjitter\u001b[0m\u001b[0;34m\u001b[0m\u001b[0;34m\u001b[0m\u001b[0m\n\u001b[1;32m    527\u001b[0m \u001b[0;34m\u001b[0m\u001b[0m\n",
            "    \u001b[0;31m[... skipping hidden 1 frame]\u001b[0m\n",
            "\u001b[0;32m/usr/local/lib/python3.10/dist-packages/gpjax/kernels/base.py\u001b[0m in \u001b[0;36mgram\u001b[0;34m(self, x)\u001b[0m\n\u001b[1;32m     62\u001b[0m \u001b[0;34m\u001b[0m\u001b[0m\n\u001b[1;32m     63\u001b[0m     \u001b[0;32mdef\u001b[0m \u001b[0mgram\u001b[0m\u001b[0;34m(\u001b[0m\u001b[0mself\u001b[0m\u001b[0;34m,\u001b[0m \u001b[0mx\u001b[0m\u001b[0;34m:\u001b[0m \u001b[0mNum\u001b[0m\u001b[0;34m[\u001b[0m\u001b[0mArray\u001b[0m\u001b[0;34m,\u001b[0m \u001b[0;34m\"N D\"\u001b[0m\u001b[0;34m]\u001b[0m\u001b[0;34m)\u001b[0m\u001b[0;34m:\u001b[0m\u001b[0;34m\u001b[0m\u001b[0;34m\u001b[0m\u001b[0m\n\u001b[0;32m---> 64\u001b[0;31m         \u001b[0;32mreturn\u001b[0m \u001b[0mself\u001b[0m\u001b[0;34m.\u001b[0m\u001b[0mcompute_engine\u001b[0m\u001b[0;34m.\u001b[0m\u001b[0mgram\u001b[0m\u001b[0;34m(\u001b[0m\u001b[0mself\u001b[0m\u001b[0;34m,\u001b[0m \u001b[0mx\u001b[0m\u001b[0;34m)\u001b[0m\u001b[0;34m\u001b[0m\u001b[0;34m\u001b[0m\u001b[0m\n\u001b[0m\u001b[1;32m     65\u001b[0m \u001b[0;34m\u001b[0m\u001b[0m\n\u001b[1;32m     66\u001b[0m     \u001b[0;32mdef\u001b[0m \u001b[0mslice_input\u001b[0m\u001b[0;34m(\u001b[0m\u001b[0mself\u001b[0m\u001b[0;34m,\u001b[0m \u001b[0mx\u001b[0m\u001b[0;34m:\u001b[0m \u001b[0mFloat\u001b[0m\u001b[0;34m[\u001b[0m\u001b[0mArray\u001b[0m\u001b[0;34m,\u001b[0m \u001b[0;34m\"... D\"\u001b[0m\u001b[0;34m]\u001b[0m\u001b[0;34m)\u001b[0m \u001b[0;34m->\u001b[0m \u001b[0mFloat\u001b[0m\u001b[0;34m[\u001b[0m\u001b[0mArray\u001b[0m\u001b[0;34m,\u001b[0m \u001b[0;34m\"... Q\"\u001b[0m\u001b[0;34m]\u001b[0m\u001b[0;34m:\u001b[0m\u001b[0;34m\u001b[0m\u001b[0;34m\u001b[0m\u001b[0m\n",
            "    \u001b[0;31m[... skipping hidden 1 frame]\u001b[0m\n",
            "\u001b[0;32m/usr/local/lib/python3.10/dist-packages/gpjax/kernels/computations/base.py\u001b[0m in \u001b[0;36mgram\u001b[0;34m(self, kernel, x)\u001b[0m\n\u001b[1;32m     55\u001b[0m         \"\"\"\n\u001b[1;32m     56\u001b[0m         \u001b[0mKxx\u001b[0m \u001b[0;34m=\u001b[0m \u001b[0mself\u001b[0m\u001b[0;34m.\u001b[0m\u001b[0mcross_covariance\u001b[0m\u001b[0;34m(\u001b[0m\u001b[0mkernel\u001b[0m\u001b[0;34m,\u001b[0m \u001b[0mx\u001b[0m\u001b[0;34m,\u001b[0m \u001b[0mx\u001b[0m\u001b[0;34m)\u001b[0m\u001b[0;34m\u001b[0m\u001b[0;34m\u001b[0m\u001b[0m\n\u001b[0;32m---> 57\u001b[0;31m         \u001b[0;32mreturn\u001b[0m \u001b[0mPSD\u001b[0m\u001b[0;34m(\u001b[0m\u001b[0mDense\u001b[0m\u001b[0;34m(\u001b[0m\u001b[0mKxx\u001b[0m\u001b[0;34m)\u001b[0m\u001b[0;34m)\u001b[0m\u001b[0;34m\u001b[0m\u001b[0;34m\u001b[0m\u001b[0m\n\u001b[0m\u001b[1;32m     58\u001b[0m \u001b[0;34m\u001b[0m\u001b[0m\n\u001b[1;32m     59\u001b[0m     \u001b[0;34m@\u001b[0m\u001b[0mabc\u001b[0m\u001b[0;34m.\u001b[0m\u001b[0mabstractmethod\u001b[0m\u001b[0;34m\u001b[0m\u001b[0;34m\u001b[0m\u001b[0m\n",
            "\u001b[0;32m/usr/local/lib/python3.10/dist-packages/cola/ops/operator_base.py\u001b[0m in \u001b[0;36m__new__\u001b[0;34m(cls, *args, **kwargs)\u001b[0m\n\u001b[1;32m     20\u001b[0m         \u001b[0;34m\"\"\" Creates attributes for the flatten and unflatten functionality. \"\"\"\u001b[0m\u001b[0;34m\u001b[0m\u001b[0;34m\u001b[0m\u001b[0m\n\u001b[1;32m     21\u001b[0m         \u001b[0mobj\u001b[0m \u001b[0;34m=\u001b[0m \u001b[0msuper\u001b[0m\u001b[0;34m(\u001b[0m\u001b[0;34m)\u001b[0m\u001b[0;34m.\u001b[0m\u001b[0m__new__\u001b[0m\u001b[0;34m(\u001b[0m\u001b[0mcls\u001b[0m\u001b[0;34m)\u001b[0m\u001b[0;34m\u001b[0m\u001b[0;34m\u001b[0m\u001b[0m\n\u001b[0;32m---> 22\u001b[0;31m         \u001b[0mobj\u001b[0m\u001b[0;34m.\u001b[0m\u001b[0mdevice\u001b[0m \u001b[0;34m=\u001b[0m \u001b[0mfind_device\u001b[0m\u001b[0;34m(\u001b[0m\u001b[0;34m[\u001b[0m\u001b[0margs\u001b[0m\u001b[0;34m,\u001b[0m \u001b[0mkwargs\u001b[0m\u001b[0;34m]\u001b[0m\u001b[0;34m)\u001b[0m\u001b[0;34m\u001b[0m\u001b[0;34m\u001b[0m\u001b[0m\n\u001b[0m\u001b[1;32m     23\u001b[0m         \u001b[0;32mreturn\u001b[0m \u001b[0mobj\u001b[0m\u001b[0;34m\u001b[0m\u001b[0;34m\u001b[0m\u001b[0m\n\u001b[1;32m     24\u001b[0m \u001b[0;34m\u001b[0m\u001b[0m\n",
            "\u001b[0;32m/usr/local/lib/python3.10/dist-packages/cola/ops/operator_base.py\u001b[0m in \u001b[0;36mfind_device\u001b[0;34m(obj)\u001b[0m\n\u001b[1;32m    270\u001b[0m     \u001b[0;32melif\u001b[0m \u001b[0misinstance\u001b[0m\u001b[0;34m(\u001b[0m\u001b[0mobj\u001b[0m\u001b[0;34m,\u001b[0m \u001b[0;34m(\u001b[0m\u001b[0mtuple\u001b[0m\u001b[0;34m,\u001b[0m \u001b[0mlist\u001b[0m\u001b[0;34m,\u001b[0m \u001b[0mset\u001b[0m\u001b[0;34m)\u001b[0m\u001b[0;34m)\u001b[0m\u001b[0;34m:\u001b[0m\u001b[0;34m\u001b[0m\u001b[0;34m\u001b[0m\u001b[0m\n\u001b[1;32m    271\u001b[0m         \u001b[0;32mfor\u001b[0m \u001b[0mob\u001b[0m \u001b[0;32min\u001b[0m \u001b[0mobj\u001b[0m\u001b[0;34m:\u001b[0m\u001b[0;34m\u001b[0m\u001b[0;34m\u001b[0m\u001b[0m\n\u001b[0;32m--> 272\u001b[0;31m             \u001b[0mdevice\u001b[0m \u001b[0;34m=\u001b[0m \u001b[0mfind_device\u001b[0m\u001b[0;34m(\u001b[0m\u001b[0mob\u001b[0m\u001b[0;34m)\u001b[0m\u001b[0;34m\u001b[0m\u001b[0;34m\u001b[0m\u001b[0m\n\u001b[0m\u001b[1;32m    273\u001b[0m             \u001b[0;32mif\u001b[0m \u001b[0mdevice\u001b[0m \u001b[0;32mis\u001b[0m \u001b[0;32mnot\u001b[0m \u001b[0;32mNone\u001b[0m\u001b[0;34m:\u001b[0m\u001b[0;34m\u001b[0m\u001b[0;34m\u001b[0m\u001b[0m\n\u001b[1;32m    274\u001b[0m                 \u001b[0;32mreturn\u001b[0m \u001b[0mdevice\u001b[0m\u001b[0;34m\u001b[0m\u001b[0;34m\u001b[0m\u001b[0m\n",
            "\u001b[0;32m/usr/local/lib/python3.10/dist-packages/cola/ops/operator_base.py\u001b[0m in \u001b[0;36mfind_device\u001b[0;34m(obj)\u001b[0m\n\u001b[1;32m    270\u001b[0m     \u001b[0;32melif\u001b[0m \u001b[0misinstance\u001b[0m\u001b[0;34m(\u001b[0m\u001b[0mobj\u001b[0m\u001b[0;34m,\u001b[0m \u001b[0;34m(\u001b[0m\u001b[0mtuple\u001b[0m\u001b[0;34m,\u001b[0m \u001b[0mlist\u001b[0m\u001b[0;34m,\u001b[0m \u001b[0mset\u001b[0m\u001b[0;34m)\u001b[0m\u001b[0;34m)\u001b[0m\u001b[0;34m:\u001b[0m\u001b[0;34m\u001b[0m\u001b[0;34m\u001b[0m\u001b[0m\n\u001b[1;32m    271\u001b[0m         \u001b[0;32mfor\u001b[0m \u001b[0mob\u001b[0m \u001b[0;32min\u001b[0m \u001b[0mobj\u001b[0m\u001b[0;34m:\u001b[0m\u001b[0;34m\u001b[0m\u001b[0;34m\u001b[0m\u001b[0m\n\u001b[0;32m--> 272\u001b[0;31m             \u001b[0mdevice\u001b[0m \u001b[0;34m=\u001b[0m \u001b[0mfind_device\u001b[0m\u001b[0;34m(\u001b[0m\u001b[0mob\u001b[0m\u001b[0;34m)\u001b[0m\u001b[0;34m\u001b[0m\u001b[0;34m\u001b[0m\u001b[0m\n\u001b[0m\u001b[1;32m    273\u001b[0m             \u001b[0;32mif\u001b[0m \u001b[0mdevice\u001b[0m \u001b[0;32mis\u001b[0m \u001b[0;32mnot\u001b[0m \u001b[0;32mNone\u001b[0m\u001b[0;34m:\u001b[0m\u001b[0;34m\u001b[0m\u001b[0;34m\u001b[0m\u001b[0m\n\u001b[1;32m    274\u001b[0m                 \u001b[0;32mreturn\u001b[0m \u001b[0mdevice\u001b[0m\u001b[0;34m\u001b[0m\u001b[0;34m\u001b[0m\u001b[0m\n",
            "\u001b[0;32m/usr/local/lib/python3.10/dist-packages/cola/ops/operator_base.py\u001b[0m in \u001b[0;36mfind_device\u001b[0;34m(obj)\u001b[0m\n\u001b[1;32m    265\u001b[0m     \u001b[0;32mif\u001b[0m \u001b[0mis_array\u001b[0m\u001b[0;34m(\u001b[0m\u001b[0mobj\u001b[0m\u001b[0;34m)\u001b[0m\u001b[0;34m:\u001b[0m\u001b[0;34m\u001b[0m\u001b[0;34m\u001b[0m\u001b[0m\n\u001b[1;32m    266\u001b[0m         \u001b[0mxnp\u001b[0m \u001b[0;34m=\u001b[0m \u001b[0mget_library_fns\u001b[0m\u001b[0;34m(\u001b[0m\u001b[0mobj\u001b[0m\u001b[0;34m.\u001b[0m\u001b[0mdtype\u001b[0m\u001b[0;34m)\u001b[0m\u001b[0;34m\u001b[0m\u001b[0;34m\u001b[0m\u001b[0m\n\u001b[0;32m--> 267\u001b[0;31m         \u001b[0;32mreturn\u001b[0m \u001b[0mxnp\u001b[0m\u001b[0;34m.\u001b[0m\u001b[0mget_device\u001b[0m\u001b[0;34m(\u001b[0m\u001b[0mobj\u001b[0m\u001b[0;34m)\u001b[0m\u001b[0;34m\u001b[0m\u001b[0;34m\u001b[0m\u001b[0m\n\u001b[0m\u001b[1;32m    268\u001b[0m     \u001b[0;32melif\u001b[0m \u001b[0misinstance\u001b[0m\u001b[0;34m(\u001b[0m\u001b[0mobj\u001b[0m\u001b[0;34m,\u001b[0m \u001b[0mLinearOperator\u001b[0m\u001b[0;34m)\u001b[0m\u001b[0;34m:\u001b[0m\u001b[0;34m\u001b[0m\u001b[0;34m\u001b[0m\u001b[0m\n\u001b[1;32m    269\u001b[0m         \u001b[0;32mreturn\u001b[0m \u001b[0mobj\u001b[0m\u001b[0;34m.\u001b[0m\u001b[0mdevice\u001b[0m\u001b[0;34m\u001b[0m\u001b[0;34m\u001b[0m\u001b[0m\n",
            "\u001b[0;32m/usr/local/lib/python3.10/dist-packages/cola/backends/jax_fns.py\u001b[0m in \u001b[0;36mget_device\u001b[0;34m(array)\u001b[0m\n\u001b[1;32m    157\u001b[0m \u001b[0;32mdef\u001b[0m \u001b[0mget_device\u001b[0m\u001b[0;34m(\u001b[0m\u001b[0marray\u001b[0m\u001b[0;34m)\u001b[0m\u001b[0;34m:\u001b[0m\u001b[0;34m\u001b[0m\u001b[0;34m\u001b[0m\u001b[0m\n\u001b[1;32m    158\u001b[0m     \u001b[0;32mif\u001b[0m \u001b[0;32mnot\u001b[0m \u001b[0misinstance\u001b[0m\u001b[0;34m(\u001b[0m\u001b[0marray\u001b[0m\u001b[0;34m,\u001b[0m \u001b[0mjax\u001b[0m\u001b[0;34m.\u001b[0m\u001b[0mcore\u001b[0m\u001b[0;34m.\u001b[0m\u001b[0mTracer\u001b[0m\u001b[0;34m)\u001b[0m \u001b[0;32mand\u001b[0m \u001b[0mhasattr\u001b[0m\u001b[0;34m(\u001b[0m\u001b[0marray\u001b[0m\u001b[0;34m,\u001b[0m \u001b[0;34m'device'\u001b[0m\u001b[0;34m)\u001b[0m\u001b[0;34m:\u001b[0m\u001b[0;34m\u001b[0m\u001b[0;34m\u001b[0m\u001b[0m\n\u001b[0;32m--> 159\u001b[0;31m         \u001b[0;32mreturn\u001b[0m \u001b[0marray\u001b[0m\u001b[0;34m.\u001b[0m\u001b[0mdevice\u001b[0m\u001b[0;34m(\u001b[0m\u001b[0;34m)\u001b[0m\u001b[0;34m\u001b[0m\u001b[0;34m\u001b[0m\u001b[0m\n\u001b[0m\u001b[1;32m    160\u001b[0m     \u001b[0;32melse\u001b[0m\u001b[0;34m:\u001b[0m\u001b[0;34m\u001b[0m\u001b[0;34m\u001b[0m\u001b[0m\n\u001b[1;32m    161\u001b[0m         \u001b[0;32mreturn\u001b[0m \u001b[0mget_default_device\u001b[0m\u001b[0;34m(\u001b[0m\u001b[0;34m)\u001b[0m\u001b[0;34m\u001b[0m\u001b[0;34m\u001b[0m\u001b[0m\n",
            "\u001b[0;31mTypeError\u001b[0m: 'Device' object is not callable"
          ]
        }
      ],
      "source": [
        "np.random.seed(10)\n",
        "N = 10\n",
        "mh_samples=np.zeros((N,4))\n",
        "mh_samples[0] = np.array([0.,-1,-1,0.])\n",
        "#mh_samples[0] = np.array([0.25,-2.5,-2.5,0.6])\n",
        "#mh_samples[0]=np.array([0.6, -0.6,  0.2,  0.1])\n",
        "mh_samples[0] = np.array([0.8, -2.35,  -2.35,  0.35])#np.array([0.6, -2.25,  -2.25,  0.3])#0.60, -2.20,  -2.20,  0.30\n",
        "t_0 = 10\n",
        "q_means=np.zeros((N,4))\n",
        "q_means[0] = mh_samples[0]\n",
        "q_cov = np.eye(4)*0.01#0.25#[0.1,0.025,0.025,0.1]#[0.1,0.025,0.025,0.1]#[0.1,0.01,0.01,0.1]\n",
        "\n",
        "params_current=jnp.array(np.random.multivariate_normal(mh_samples[0],q_cov,20))\n",
        "#params_current=round(params_current,1)\n",
        "y_current = jnp.array(log_likelihood_lv(params_current).reshape(-1,1))\n",
        "epsilon = 0.05#0.2\n",
        "obs_stddev=1e-3\n",
        "proposal='normal'\n",
        "D = gpx.Dataset(params_current, y=y_current)\n",
        "#print(D)\n",
        "posterior = fit_gp(params_current, y_current, key, do_optimize=True, obs_stddev=obs_stddev)\n",
        "mini =  jnp.array([-2,-3,-3,-2])\n",
        "maxi=jnp.array([2,1,1,2])\n",
        "\n",
        "'''# how many do you need to set up\n",
        "x1_range = jnp.arange(start = -3., stop = 3., step = 1.0 )\n",
        "x2_range = jnp.arange(start = -3., stop = 3., step = 1.0 )\n",
        "x3_range = jnp.arange(start = -3., stop = 3., step = 1.0 )\n",
        "x4_range = jnp.arange(start = -2., stop = 2., step = 1.0 )\n",
        "x1_gridvalues, x2_gridvalues, x3_gridvalues,x4_gridvalues = jnp.meshgrid(x1_range, x2_range,x3_range,x4_range)\n",
        "test_points = jnp.vstack([x1_gridvalues.flatten(), x2_gridvalues.flatten(), x3_gridvalues.flatten(), x4_gridvalues.flatten()]).T\n",
        "'''\n",
        "for i in range(1,N):\n",
        "  # centred around prev step with var 1\n",
        "  if i > t_0:\n",
        "    q_cov=((i-2)/(i-1))*q_cov + ((2.4**2)/(4*(i-1)))*((i-1)*(np.outer(q_means[i-2],q_means[i-2]))-i*np.outer(q_means[i-1],q_means[i-1])+np.outer(mh_samples[i-1],mh_samples[i-1])+ 1e-9*np.eye(4))\n",
        "  if proposal == 'uniform':\n",
        "    params_prop = (np.random.uniform(0,1,4) - 0.5)*[0.1,0.1,0.1,0.1]*3.0 + mh_samples[i-1,:]\n",
        "  else:\n",
        "    params_prop=np.random.multivariate_normal(mh_samples[i-1],q_cov)\n",
        "  u = np.random.uniform()\n",
        "\n",
        "\n",
        "  params_now=mh_samples[i-1]\n",
        "  # find mean and variance of log likelihood ratio at proposal and prev point\n",
        "  m,v = gpmh_eval_posterior_wp(posterior,params_current,params_prop,params_now,key,obs_stddev,D,mini,maxi)\n",
        "\n",
        "  print('step',i,'m',m,'v',v,log_epsilon_gamma(m,v,u),expected1(m,v),expected(m,v),jnp.log(epsilon),'Current',params_now,'proposed',params_prop,posterior.likelihood.obs_stddev**2)\n",
        "\n",
        "\n",
        "  #generate test points if necessary\n",
        "  if (expected(m,v) > epsilon):\n",
        "    params_grid = jnp.vstack([params_now,params_prop])#.reshape(-1,1)\n",
        "    #max=round(jnp.max(params_grid)+0.7,1)\n",
        "    #min=round(jnp.min(params_grid)-0.7,1)\n",
        "    max=round(jnp.minimum(jnp.max(params_grid)+0.7,maxi),1)\n",
        "    min=round(jnp.maximum(jnp.min(params_grid)-0.7,mini),1)\n",
        "    test_points = round(jnp.array(np.random.uniform(min,max,(1000,4))),1)\n",
        "    test_points= remove_close_rows(test_points,params_current)\n",
        "  npc=0\n",
        "  while (expected(m,v) > epsilon) and np.size(test_points) >5:\n",
        "  #while (log_epsilon_gamma(m,v,u) > jnp.log(epsilon)) and np.size(test_points) >5:\n",
        "    test_points= remove_close_rows(test_points,params_current)\n",
        "\n",
        "    #x_grid = jnp.arange(-5.0, 5.0, 0.01).reshape(-1, 1)\n",
        "    #params_grid = jnp.vstack([params_now,params_prop])#.reshape(-1,1)\n",
        "    #max=round(jnp.max(params_grid)+1.0,1)\n",
        "    #min=round(jnp.min(params_grid)-1.0,1)\n",
        "\n",
        "    #get lengthscale\n",
        "    #ls = posterior.prior.kernel.lengthscale\n",
        "    #print('lengthsxale:',ls)\n",
        "    #test_points = jnp.arange(min-round(5*ls,1), round(ls*5,1), 0.1)\n",
        "    #test_points = round(jnp.array(np.random.uniform(min,max,(100,4))),1)\n",
        "    #test_points= remove_close_rows(test_points,params_current)\n",
        "    #test_point_utilities = loss_2023paper(params_current, y_current, test_points,params_grid, key, obs_stddev)\n",
        "    test_point_utilities = loss_2023papernew(posterior,params_current, y_current, test_points,params_grid, key, obs_stddev)\n",
        "\n",
        "    j = jnp.argmax(jnp.array(test_point_utilities))\n",
        "    params_new = test_points[j]\n",
        "\n",
        "    y_new = log_likelihood_lv(jnp.array([params_new]))\n",
        "\n",
        "    npc+=1\n",
        "    while np.isnan(y_new):\n",
        "      test_points=jnp.delete(test_points,j,axis=0)\n",
        "      test_point_utilities = loss_2023papernew(posterior,params_current, y_current, test_points,params_grid, key, obs_stddev)\n",
        "      j = jnp.argmax(jnp.array(test_point_utilities))\n",
        "      params_new = test_points[j]\n",
        "      y_new = log_likelihood_lv(jnp.array([params_new]))\n",
        "      npc+=1\n",
        "      if npc > 20:\n",
        "        print('fail')\n",
        "        break\n",
        "    if npc > 20:\n",
        "      print('fail')\n",
        "      break\n",
        "    params_current = jnp.vstack([params_current, params_new])\n",
        "    y_current = log_likelihood_lv(params_current).reshape(-1,1)\n",
        "    D = gpx.Dataset(params_current, y_current)\n",
        "\n",
        "    posterior = fit_gp(params_current, y_current, key, do_optimize=True, obs_stddev=obs_stddev)\n",
        "    m,v = gpmh_eval_posterior_wp(posterior,params_current,params_prop,params_now,key,obs_stddev, D,mini,maxi)\n",
        "    print('chosen new point',params_new,'size',np.shape(params_current),jnp.exp(expected1(m,v)),expected(m,v),epsilon_gamma(m,v,u))\n",
        "  print('m',m,'v',v,u)\n",
        "  if m >= jnp.log(u):\n",
        "    mh_samples[i] = params_prop\n",
        "  else:\n",
        "    mh_samples[i] = mh_samples[i-1]\n",
        "\n",
        "  q_means[i] = q_means[i-1] + (mh_samples[i]-q_means[i-1])/(i+1)\n"
      ]
    },
    {
      "cell_type": "code",
      "source": [
        "def gpmh(params_current, y_current, ll, key, N, start_point, epsilon, upper_b, lower_b, do_optimize=True, obs_stddev=1e-3):\n",
        "  \"\"\"Predicts the predicted mean and predicted varaiance\n",
        "\n",
        "    Args:\n",
        "        posterior: posterior fitted to dataset\n",
        "        x_current: training data\n",
        "        x_prop: proposed state\n",
        "        x_now: current state\n",
        "        key: random key\n",
        "        obs_stddev: observation noise\n",
        "        D: dataset to which the GP is fitted\n",
        "    Returns:\n",
        "        risk_value: risk function value\n",
        "  \"\"\"\n",
        "  mh_samples=np.zeros((N,4))\n",
        "  mh_samples[0] = start_point\n",
        "\n",
        "  t_0 = 10\n",
        "  q_means=np.zeros((N,4))\n",
        "  q_means[0] = mh_samples[0]\n",
        "  q_cov = np.eye(4)*0.01#0.25#[0.1,0.025,0.025,0.1]#[0.1,0.025,0.025,0.1]#[0.1,0.01,0.01,0.1]\n",
        "\n",
        "  params_current=jnp.array(np.random.multivariate_normal(mh_samples[0],q_cov,20))\n",
        "  #params_current=round(params_current,1)\n",
        "  y_current = jnp.array(ll(params_current).reshape(-1,1))\n",
        "\n",
        "  epsilon = 0.05#0.2\n",
        "  obs_stddev=1e-3\n",
        "  proposal='normal'\n",
        "  D = gpx.Dataset(params_current, y=y_current)\n",
        "#print(D)\n",
        "  posterior = fit_gp(params_current, y_current, key, do_optimize=True, obs_stddev=obs_stddev)\n",
        "  mini =  lower_b\n",
        "  maxi = upper_b\n",
        "\n",
        "  for i in range(1,N):\n",
        "  # centred around prev step with var 1\n",
        "    if i > t_0:\n",
        "      q_cov=((i-2)/(i-1))*q_cov + ((2.4**2)/(4*(i-1)))*((i-1)*(np.outer(q_means[i-2],q_means[i-2]))-i*np.outer(q_means[i-1],q_means[i-1])+np.outer(mh_samples[i-1],mh_samples[i-1])+ 1e-9*np.eye(4))\n",
        "    if proposal == 'uniform':\n",
        "      params_prop = (np.random.uniform(0,1,4) - 0.5)*[0.1,0.1,0.1,0.1]*3.0 + mh_samples[i-1,:]\n",
        "    else:\n",
        "      params_prop=np.random.multivariate_normal(mh_samples[i-1],q_cov)\n",
        "    u = np.random.uniform()\n",
        "\n",
        "\n",
        "    params_now=mh_samples[i-1]\n",
        "    # find mean and variance of log likelihood ratio at proposal and prev point\n",
        "    m,v = gpmh_eval_posterior_wp(posterior,params_current,params_prop,params_now,key,obs_stddev,D,mini,maxi)\n",
        "\n",
        "    #print('step',i,'m',m,'v',v,log_epsilon_gamma(m,v,u),expected1(m,v),expected(m,v),jnp.log(epsilon),'Current',params_now,'proposed',params_prop,posterior.likelihood.obs_stddev**2)\n",
        "\n",
        "\n",
        "    #generate test points if necessary\n",
        "    if (expected(m,v) > epsilon):\n",
        "      params_grid = jnp.vstack([params_now,params_prop])\n",
        "      # max and min refer to approach described in jarvenpaa to restrict grid\n",
        "      max=round(jnp.minimum(jnp.max(params_grid)+0.7,maxi),1)\n",
        "      min=round(jnp.maximum(jnp.min(params_grid)-0.7,mini),1)\n",
        "      test_points = round(jnp.array(np.random.uniform(min,max,(1000,4))),1)\n",
        "      test_points = remove_close_rows(test_points,params_current)\n",
        "    npc=0\n",
        "    while (expected(m,v) > epsilon) and np.size(test_points) >5:\n",
        "\n",
        "      test_points = remove_close_rows(test_points,params_current)\n",
        "      test_point_utilities = loss_2023papernew(posterior,params_current, y_current, test_points,params_grid, key, obs_stddev)\n",
        "\n",
        "      j = jnp.argmax(jnp.array(test_point_utilities))\n",
        "      params_new = test_points[j]\n",
        "\n",
        "      y_new = ll(jnp.array([params_new]))\n",
        "\n",
        "      npc+=1\n",
        "\n",
        "      # the next loop deals with nan we consider the algorithm a failure\n",
        "      while np.isnan(y_new) and npc < 20:\n",
        "        test_points=jnp.delete(test_points,j,axis=0)\n",
        "        test_point_utilities = loss_2023papernew(posterior,params_current, y_current, test_points,params_grid, key, obs_stddev)\n",
        "        j = jnp.argmax(jnp.array(test_point_utilities))\n",
        "        params_new = test_points[j]\n",
        "        y_new = ll(jnp.array([params_new]))\n",
        "        npc+=1\n",
        "\n",
        "      if npc >= 20:\n",
        "        print('fail')\n",
        "        break\n",
        "\n",
        "      # add the new point\n",
        "      params_current = jnp.vstack([params_current, params_new])\n",
        "      y_current = ll(params_current).reshape(-1,1)\n",
        "      D = gpx.Dataset(params_current, y_current)\n",
        "\n",
        "      posterior = fit_gp(params_current, y_current, key, do_optimize=True, obs_stddev=obs_stddev)\n",
        "      m,v = gpmh_eval_posterior_wp(posterior,params_current,params_prop,params_now,key,obs_stddev, D,mini,maxi)\n",
        "      #print('chosen new point',params_new,'size',np.shape(params_current),jnp.exp(expected1(m,v)),expected(m,v),epsilon_gamma(m,v,u))\n",
        "    #print('m',m,'v',v,u)\n",
        "\n",
        "    if m >= jnp.log(u):\n",
        "      mh_samples[i] = params_prop\n",
        "    else:\n",
        "      mh_samples[i] = mh_samples[i-1]\n",
        "\n",
        "    q_means[i] = q_means[i-1] + (mh_samples[i]-q_means[i-1])/(i+1)\n",
        "    return mh_samples"
      ],
      "metadata": {
        "id": "7uCPaDesBqi4"
      },
      "execution_count": 21,
      "outputs": []
    },
    {
      "cell_type": "code",
      "source": [],
      "metadata": {
        "id": "docsRRFILKAx"
      },
      "execution_count": null,
      "outputs": []
    },
    {
      "cell_type": "code",
      "execution_count": 19,
      "metadata": {
        "id": "tgEyAA9WwTn0"
      },
      "outputs": [],
      "source": [
        "from jax import vmap\n",
        "from jax.experimental.ode import odeint"
      ]
    },
    {
      "cell_type": "code",
      "execution_count": 20,
      "metadata": {
        "colab": {
          "base_uri": "https://localhost:8080/"
        },
        "id": "Czkz6fSrwaC5",
        "outputId": "90b17d45-7550-4ea6-fced-98e38ae10d6c"
      },
      "outputs": [
        {
          "output_type": "stream",
          "name": "stdout",
          "text": [
            "Log-Likelihoods: [-39.3908751  -40.88475172 -40.54467613]\n"
          ]
        }
      ],
      "source": [
        "def lotka_volterra(X, t, alpha, beta, delta, gamma):\n",
        "    x, y = X\n",
        "    dxdt = alpha * x - beta * x * y\n",
        "    dydt = delta * x * y - gamma * y\n",
        "    return [dxdt, dydt]\n",
        "\n",
        "# Vectorized integration function\n",
        "def integrate_model(params, t, initial_conditions):\n",
        "    alpha, beta, delta, gamma = params\n",
        "\n",
        "    # Define the ODE function for a single set of parameters\n",
        "    def odefunc(X, t):\n",
        "        return lotka_volterra(X, t, alpha, beta, delta, gamma)\n",
        "\n",
        "    # Integrate the ODE\n",
        "    return odeint(odefunc, initial_conditions, t)\n",
        "\n",
        "# Vectorized log-likelihood function\n",
        "@jit\n",
        "def log_likelihood_lv(log_params):#, t, data, initial_conditions):\n",
        "    # Ensure params are in the correct shape (N, 4) where N is the number of parameter sets\n",
        "\n",
        "    params=jnp.exp(log_params)\n",
        "    def integrate_single(params):\n",
        "        return integrate_model(params, t, initial_conditions)\n",
        "    # Vectorize integration over parameter sets\n",
        "    models = vmap(integrate_single)(params)\n",
        "    # Compute the error and log-likelihood for each parameter set\n",
        "    errors = data - models\n",
        "    sigma = 5000\n",
        "    log_likelihoods = -jnp.sum(errors**2, axis=(1, 2)) / (2*sigma) + 10.\n",
        "    return log_likelihoods\n",
        "\n",
        "# Example data\n",
        "true_params = jnp.array([2.0, 0.1,0.1,1.5])\n",
        "initial_conditions = jnp.array([10.0, 5.0])\n",
        "t = jnp.linspace(0, 50, 500)\n",
        "data = integrate_model(true_params, t, initial_conditions)\n",
        "\n",
        "# Initial guess for parameters\n",
        "initial_params = jnp.array([[1.0, 0.05,1.0,0.1], [2.0, 0.1,2.0,0.1],[1.1,1.1,1.1,1.1]])\n",
        "\n",
        "# Compute log-likelihoods for each parameter set\n",
        "ll_values = log_likelihood_lv(initial_params)#, t, data, initial_conditions)\n",
        "print(\"Log-Likelihoods:\", ll_values)"
      ]
    },
    {
      "cell_type": "code",
      "source": [
        "lower_b =  jnp.array([-2,-3,-3,-2])\n",
        "upper_b=jnp.array([2,1,1,2])\n",
        "start_point = np.array([0.8, -2.35,  -2.35,  0.35])\n",
        "epsilon = 0.05\n",
        "params_current = jnp.array(np.random.uniform([-2,-3,-3,-2],[2,1,1,2],(20,4)))\n",
        "#params_current = jnp.array((np.random.uniform(0,1,(70,4)) - 0.5)*[0.1,0.01,0.01,0.1] + mh_samples[0,:])\n",
        "params_current=round(params_current,1)\n",
        "true_params = jnp.array([2.0, 0.1,0.1,1.5])\n",
        "initial_conditions = jnp.array([10.0, 5.0])\n",
        "t = jnp.linspace(0, 50, 500)\n",
        "#data = generate_synthetic_data(true_params, initial_conditions, t)\n",
        "y_current = jnp.array(log_likelihood_lv(params_current).reshape(-1,1))\n",
        "a=gpmh(params_current, y_current, log_likelihood_lv, key, 10, start_point, epsilon, upper_b, lower_b, do_optimize=True, obs_stddev=1e-3)"
      ],
      "metadata": {
        "colab": {
          "base_uri": "https://localhost:8080/",
          "height": 457,
          "referenced_widgets": [
            "622ad1bc42ee4b44a1ec5c9d6c6efd4b",
            "7fe8a7b6c1db4ad4bacdd42c63073dae",
            "d9e62b22c6a2484388780ae211a24723",
            "ebf03b6669254411ba067e876ba59f47",
            "c93e7812f1644e53b4ed978f96ca3429",
            "d439c49a38214c05bbe2ef8033f27833",
            "394576563f7a44489d0f8e4c92672eb7",
            "c8c31854bfba4893a3fccf79e6521da1",
            "3ef881544fac46b4a3a8df0de26ab504",
            "27254785f3f74352a72266fc0aa41cd3",
            "45874cb1a0bd437ba103a7ad5b8d9a27"
          ]
        },
        "id": "LF2pm26tMWLI",
        "outputId": "b0fab30c-ced4-44df-cab8-7e66e9c8753d"
      },
      "execution_count": 27,
      "outputs": [
        {
          "output_type": "display_data",
          "data": {
            "text/plain": [
              "  0%|          | 0/1000 [00:00<?, ?it/s]"
            ],
            "application/vnd.jupyter.widget-view+json": {
              "version_major": 2,
              "version_minor": 0,
              "model_id": "622ad1bc42ee4b44a1ec5c9d6c6efd4b"
            }
          },
          "metadata": {}
        },
        {
          "output_type": "error",
          "ename": "TypeError",
          "evalue": "'Device' object is not callable",
          "traceback": [
            "\u001b[0;31m---------------------------------------------------------------------------\u001b[0m",
            "\u001b[0;31mTypeError\u001b[0m                                 Traceback (most recent call last)",
            "\u001b[0;32m<ipython-input-27-6455c9073a20>\u001b[0m in \u001b[0;36m<cell line: 13>\u001b[0;34m()\u001b[0m\n\u001b[1;32m     11\u001b[0m \u001b[0;31m#data = generate_synthetic_data(true_params, initial_conditions, t)\u001b[0m\u001b[0;34m\u001b[0m\u001b[0;34m\u001b[0m\u001b[0m\n\u001b[1;32m     12\u001b[0m \u001b[0my_current\u001b[0m \u001b[0;34m=\u001b[0m \u001b[0mjnp\u001b[0m\u001b[0;34m.\u001b[0m\u001b[0marray\u001b[0m\u001b[0;34m(\u001b[0m\u001b[0mlog_likelihood_lv\u001b[0m\u001b[0;34m(\u001b[0m\u001b[0mparams_current\u001b[0m\u001b[0;34m)\u001b[0m\u001b[0;34m.\u001b[0m\u001b[0mreshape\u001b[0m\u001b[0;34m(\u001b[0m\u001b[0;34m-\u001b[0m\u001b[0;36m1\u001b[0m\u001b[0;34m,\u001b[0m\u001b[0;36m1\u001b[0m\u001b[0;34m)\u001b[0m\u001b[0;34m)\u001b[0m\u001b[0;34m\u001b[0m\u001b[0;34m\u001b[0m\u001b[0m\n\u001b[0;32m---> 13\u001b[0;31m \u001b[0ma\u001b[0m\u001b[0;34m=\u001b[0m\u001b[0mgpmh\u001b[0m\u001b[0;34m(\u001b[0m\u001b[0mparams_current\u001b[0m\u001b[0;34m,\u001b[0m \u001b[0my_current\u001b[0m\u001b[0;34m,\u001b[0m \u001b[0mlog_likelihood_lv\u001b[0m\u001b[0;34m,\u001b[0m \u001b[0mkey\u001b[0m\u001b[0;34m,\u001b[0m \u001b[0;36m10\u001b[0m\u001b[0;34m,\u001b[0m \u001b[0mstart_point\u001b[0m\u001b[0;34m,\u001b[0m \u001b[0mepsilon\u001b[0m\u001b[0;34m,\u001b[0m \u001b[0mupper_b\u001b[0m\u001b[0;34m,\u001b[0m \u001b[0mlower_b\u001b[0m\u001b[0;34m,\u001b[0m \u001b[0mdo_optimize\u001b[0m\u001b[0;34m=\u001b[0m\u001b[0;32mTrue\u001b[0m\u001b[0;34m,\u001b[0m \u001b[0mobs_stddev\u001b[0m\u001b[0;34m=\u001b[0m\u001b[0;36m1e-3\u001b[0m\u001b[0;34m)\u001b[0m\u001b[0;34m\u001b[0m\u001b[0;34m\u001b[0m\u001b[0m\n\u001b[0m",
            "\u001b[0;32m<ipython-input-21-17272e50da36>\u001b[0m in \u001b[0;36mgpmh\u001b[0;34m(params_current, y_current, ll, key, N, start_point, epsilon, upper_b, lower_b, do_optimize, obs_stddev)\u001b[0m\n\u001b[1;32m     47\u001b[0m     \u001b[0mparams_now\u001b[0m\u001b[0;34m=\u001b[0m\u001b[0mmh_samples\u001b[0m\u001b[0;34m[\u001b[0m\u001b[0mi\u001b[0m\u001b[0;34m-\u001b[0m\u001b[0;36m1\u001b[0m\u001b[0;34m]\u001b[0m\u001b[0;34m\u001b[0m\u001b[0;34m\u001b[0m\u001b[0m\n\u001b[1;32m     48\u001b[0m     \u001b[0;31m# find mean and variance of log likelihood ratio at proposal and prev point\u001b[0m\u001b[0;34m\u001b[0m\u001b[0;34m\u001b[0m\u001b[0m\n\u001b[0;32m---> 49\u001b[0;31m     \u001b[0mm\u001b[0m\u001b[0;34m,\u001b[0m\u001b[0mv\u001b[0m \u001b[0;34m=\u001b[0m \u001b[0mgpmh_eval_posterior_wp\u001b[0m\u001b[0;34m(\u001b[0m\u001b[0mposterior\u001b[0m\u001b[0;34m,\u001b[0m\u001b[0mparams_current\u001b[0m\u001b[0;34m,\u001b[0m\u001b[0mparams_prop\u001b[0m\u001b[0;34m,\u001b[0m\u001b[0mparams_now\u001b[0m\u001b[0;34m,\u001b[0m\u001b[0mkey\u001b[0m\u001b[0;34m,\u001b[0m\u001b[0mobs_stddev\u001b[0m\u001b[0;34m,\u001b[0m\u001b[0mD\u001b[0m\u001b[0;34m,\u001b[0m\u001b[0mmini\u001b[0m\u001b[0;34m,\u001b[0m\u001b[0mmaxi\u001b[0m\u001b[0;34m)\u001b[0m\u001b[0;34m\u001b[0m\u001b[0;34m\u001b[0m\u001b[0m\n\u001b[0m\u001b[1;32m     50\u001b[0m \u001b[0;34m\u001b[0m\u001b[0m\n\u001b[1;32m     51\u001b[0m     \u001b[0;31m#print('step',i,'m',m,'v',v,log_epsilon_gamma(m,v,u),expected1(m,v),expected(m,v),jnp.log(epsilon),'Current',params_now,'proposed',params_prop,posterior.likelihood.obs_stddev**2)\u001b[0m\u001b[0;34m\u001b[0m\u001b[0;34m\u001b[0m\u001b[0m\n",
            "\u001b[0;32m<ipython-input-16-01231ea63c5d>\u001b[0m in \u001b[0;36mgpmh_eval_posterior_wp\u001b[0;34m(posterior, x_current, x_prop, x_now, key, obs_stddev, D, min, max)\u001b[0m\n\u001b[1;32m      1\u001b[0m \u001b[0;32mdef\u001b[0m \u001b[0mgpmh_eval_posterior_wp\u001b[0m\u001b[0;34m(\u001b[0m\u001b[0mposterior\u001b[0m\u001b[0;34m,\u001b[0m\u001b[0mx_current\u001b[0m\u001b[0;34m,\u001b[0m\u001b[0mx_prop\u001b[0m\u001b[0;34m,\u001b[0m\u001b[0mx_now\u001b[0m\u001b[0;34m,\u001b[0m\u001b[0mkey\u001b[0m\u001b[0;34m,\u001b[0m\u001b[0mobs_stddev\u001b[0m\u001b[0;34m,\u001b[0m \u001b[0mD\u001b[0m \u001b[0;34m,\u001b[0m\u001b[0mmin\u001b[0m\u001b[0;34m,\u001b[0m\u001b[0mmax\u001b[0m\u001b[0;34m)\u001b[0m\u001b[0;34m:\u001b[0m\u001b[0;34m\u001b[0m\u001b[0;34m\u001b[0m\u001b[0m\n\u001b[1;32m      2\u001b[0m   \u001b[0mx_eval\u001b[0m \u001b[0;34m=\u001b[0m \u001b[0mjnp\u001b[0m\u001b[0;34m.\u001b[0m\u001b[0mvstack\u001b[0m\u001b[0;34m(\u001b[0m\u001b[0;34m(\u001b[0m\u001b[0mx_now\u001b[0m\u001b[0;34m,\u001b[0m\u001b[0mx_prop\u001b[0m\u001b[0;34m)\u001b[0m\u001b[0;34m)\u001b[0m\u001b[0;34m\u001b[0m\u001b[0;34m\u001b[0m\u001b[0m\n\u001b[0;32m----> 3\u001b[0;31m   \u001b[0mlatent_dist\u001b[0m \u001b[0;34m=\u001b[0m \u001b[0mposterior\u001b[0m\u001b[0;34m.\u001b[0m\u001b[0mpredict\u001b[0m\u001b[0;34m(\u001b[0m\u001b[0mx_eval\u001b[0m\u001b[0;34m,\u001b[0m \u001b[0mtrain_data\u001b[0m\u001b[0;34m=\u001b[0m\u001b[0mD\u001b[0m\u001b[0;34m)\u001b[0m\u001b[0;34m\u001b[0m\u001b[0;34m\u001b[0m\u001b[0m\n\u001b[0m\u001b[1;32m      4\u001b[0m   \u001b[0mpredictive_dist\u001b[0m \u001b[0;34m=\u001b[0m \u001b[0mposterior\u001b[0m\u001b[0;34m.\u001b[0m\u001b[0mlikelihood\u001b[0m\u001b[0;34m(\u001b[0m\u001b[0mlatent_dist\u001b[0m\u001b[0;34m)\u001b[0m\u001b[0;34m\u001b[0m\u001b[0;34m\u001b[0m\u001b[0m\n\u001b[1;32m      5\u001b[0m   \u001b[0mv\u001b[0m \u001b[0;34m=\u001b[0m \u001b[0mpredictive_dist\u001b[0m\u001b[0;34m.\u001b[0m\u001b[0mstddev\u001b[0m\u001b[0;34m(\u001b[0m\u001b[0;34m)\u001b[0m\u001b[0;34m.\u001b[0m\u001b[0mreshape\u001b[0m\u001b[0;34m(\u001b[0m\u001b[0;34m-\u001b[0m\u001b[0;36m1\u001b[0m\u001b[0;34m,\u001b[0m\u001b[0;36m1\u001b[0m\u001b[0;34m)\u001b[0m\u001b[0;34m\u001b[0m\u001b[0;34m\u001b[0m\u001b[0m\n",
            "    \u001b[0;31m[... skipping hidden 1 frame]\u001b[0m\n",
            "\u001b[0;32m/usr/local/lib/python3.10/dist-packages/gpjax/gps.py\u001b[0m in \u001b[0;36mpredict\u001b[0;34m(self, test_inputs, train_data)\u001b[0m\n\u001b[1;32m    523\u001b[0m \u001b[0;34m\u001b[0m\u001b[0m\n\u001b[1;32m    524\u001b[0m         \u001b[0;31m# Precompute Gram matrix, Kxx, at training inputs, x\u001b[0m\u001b[0;34m\u001b[0m\u001b[0;34m\u001b[0m\u001b[0m\n\u001b[0;32m--> 525\u001b[0;31m         \u001b[0mKxx\u001b[0m \u001b[0;34m=\u001b[0m \u001b[0mself\u001b[0m\u001b[0;34m.\u001b[0m\u001b[0mprior\u001b[0m\u001b[0;34m.\u001b[0m\u001b[0mkernel\u001b[0m\u001b[0;34m.\u001b[0m\u001b[0mgram\u001b[0m\u001b[0;34m(\u001b[0m\u001b[0mx\u001b[0m\u001b[0;34m)\u001b[0m\u001b[0;34m\u001b[0m\u001b[0;34m\u001b[0m\u001b[0m\n\u001b[0m\u001b[1;32m    526\u001b[0m         \u001b[0mKxx\u001b[0m \u001b[0;34m+=\u001b[0m \u001b[0mcola\u001b[0m\u001b[0;34m.\u001b[0m\u001b[0mops\u001b[0m\u001b[0;34m.\u001b[0m\u001b[0mI_like\u001b[0m\u001b[0;34m(\u001b[0m\u001b[0mKxx\u001b[0m\u001b[0;34m)\u001b[0m \u001b[0;34m*\u001b[0m \u001b[0mself\u001b[0m\u001b[0;34m.\u001b[0m\u001b[0mjitter\u001b[0m\u001b[0;34m\u001b[0m\u001b[0;34m\u001b[0m\u001b[0m\n\u001b[1;32m    527\u001b[0m \u001b[0;34m\u001b[0m\u001b[0m\n",
            "    \u001b[0;31m[... skipping hidden 1 frame]\u001b[0m\n",
            "\u001b[0;32m/usr/local/lib/python3.10/dist-packages/gpjax/kernels/base.py\u001b[0m in \u001b[0;36mgram\u001b[0;34m(self, x)\u001b[0m\n\u001b[1;32m     62\u001b[0m \u001b[0;34m\u001b[0m\u001b[0m\n\u001b[1;32m     63\u001b[0m     \u001b[0;32mdef\u001b[0m \u001b[0mgram\u001b[0m\u001b[0;34m(\u001b[0m\u001b[0mself\u001b[0m\u001b[0;34m,\u001b[0m \u001b[0mx\u001b[0m\u001b[0;34m:\u001b[0m \u001b[0mNum\u001b[0m\u001b[0;34m[\u001b[0m\u001b[0mArray\u001b[0m\u001b[0;34m,\u001b[0m \u001b[0;34m\"N D\"\u001b[0m\u001b[0;34m]\u001b[0m\u001b[0;34m)\u001b[0m\u001b[0;34m:\u001b[0m\u001b[0;34m\u001b[0m\u001b[0;34m\u001b[0m\u001b[0m\n\u001b[0;32m---> 64\u001b[0;31m         \u001b[0;32mreturn\u001b[0m \u001b[0mself\u001b[0m\u001b[0;34m.\u001b[0m\u001b[0mcompute_engine\u001b[0m\u001b[0;34m.\u001b[0m\u001b[0mgram\u001b[0m\u001b[0;34m(\u001b[0m\u001b[0mself\u001b[0m\u001b[0;34m,\u001b[0m \u001b[0mx\u001b[0m\u001b[0;34m)\u001b[0m\u001b[0;34m\u001b[0m\u001b[0;34m\u001b[0m\u001b[0m\n\u001b[0m\u001b[1;32m     65\u001b[0m \u001b[0;34m\u001b[0m\u001b[0m\n\u001b[1;32m     66\u001b[0m     \u001b[0;32mdef\u001b[0m \u001b[0mslice_input\u001b[0m\u001b[0;34m(\u001b[0m\u001b[0mself\u001b[0m\u001b[0;34m,\u001b[0m \u001b[0mx\u001b[0m\u001b[0;34m:\u001b[0m \u001b[0mFloat\u001b[0m\u001b[0;34m[\u001b[0m\u001b[0mArray\u001b[0m\u001b[0;34m,\u001b[0m \u001b[0;34m\"... D\"\u001b[0m\u001b[0;34m]\u001b[0m\u001b[0;34m)\u001b[0m \u001b[0;34m->\u001b[0m \u001b[0mFloat\u001b[0m\u001b[0;34m[\u001b[0m\u001b[0mArray\u001b[0m\u001b[0;34m,\u001b[0m \u001b[0;34m\"... Q\"\u001b[0m\u001b[0;34m]\u001b[0m\u001b[0;34m:\u001b[0m\u001b[0;34m\u001b[0m\u001b[0;34m\u001b[0m\u001b[0m\n",
            "    \u001b[0;31m[... skipping hidden 1 frame]\u001b[0m\n",
            "\u001b[0;32m/usr/local/lib/python3.10/dist-packages/gpjax/kernels/computations/base.py\u001b[0m in \u001b[0;36mgram\u001b[0;34m(self, kernel, x)\u001b[0m\n\u001b[1;32m     55\u001b[0m         \"\"\"\n\u001b[1;32m     56\u001b[0m         \u001b[0mKxx\u001b[0m \u001b[0;34m=\u001b[0m \u001b[0mself\u001b[0m\u001b[0;34m.\u001b[0m\u001b[0mcross_covariance\u001b[0m\u001b[0;34m(\u001b[0m\u001b[0mkernel\u001b[0m\u001b[0;34m,\u001b[0m \u001b[0mx\u001b[0m\u001b[0;34m,\u001b[0m \u001b[0mx\u001b[0m\u001b[0;34m)\u001b[0m\u001b[0;34m\u001b[0m\u001b[0;34m\u001b[0m\u001b[0m\n\u001b[0;32m---> 57\u001b[0;31m         \u001b[0;32mreturn\u001b[0m \u001b[0mPSD\u001b[0m\u001b[0;34m(\u001b[0m\u001b[0mDense\u001b[0m\u001b[0;34m(\u001b[0m\u001b[0mKxx\u001b[0m\u001b[0;34m)\u001b[0m\u001b[0;34m)\u001b[0m\u001b[0;34m\u001b[0m\u001b[0;34m\u001b[0m\u001b[0m\n\u001b[0m\u001b[1;32m     58\u001b[0m \u001b[0;34m\u001b[0m\u001b[0m\n\u001b[1;32m     59\u001b[0m     \u001b[0;34m@\u001b[0m\u001b[0mabc\u001b[0m\u001b[0;34m.\u001b[0m\u001b[0mabstractmethod\u001b[0m\u001b[0;34m\u001b[0m\u001b[0;34m\u001b[0m\u001b[0m\n",
            "\u001b[0;32m/usr/local/lib/python3.10/dist-packages/cola/ops/operator_base.py\u001b[0m in \u001b[0;36m__new__\u001b[0;34m(cls, *args, **kwargs)\u001b[0m\n\u001b[1;32m     20\u001b[0m         \u001b[0;34m\"\"\" Creates attributes for the flatten and unflatten functionality. \"\"\"\u001b[0m\u001b[0;34m\u001b[0m\u001b[0;34m\u001b[0m\u001b[0m\n\u001b[1;32m     21\u001b[0m         \u001b[0mobj\u001b[0m \u001b[0;34m=\u001b[0m \u001b[0msuper\u001b[0m\u001b[0;34m(\u001b[0m\u001b[0;34m)\u001b[0m\u001b[0;34m.\u001b[0m\u001b[0m__new__\u001b[0m\u001b[0;34m(\u001b[0m\u001b[0mcls\u001b[0m\u001b[0;34m)\u001b[0m\u001b[0;34m\u001b[0m\u001b[0;34m\u001b[0m\u001b[0m\n\u001b[0;32m---> 22\u001b[0;31m         \u001b[0mobj\u001b[0m\u001b[0;34m.\u001b[0m\u001b[0mdevice\u001b[0m \u001b[0;34m=\u001b[0m \u001b[0mfind_device\u001b[0m\u001b[0;34m(\u001b[0m\u001b[0;34m[\u001b[0m\u001b[0margs\u001b[0m\u001b[0;34m,\u001b[0m \u001b[0mkwargs\u001b[0m\u001b[0;34m]\u001b[0m\u001b[0;34m)\u001b[0m\u001b[0;34m\u001b[0m\u001b[0;34m\u001b[0m\u001b[0m\n\u001b[0m\u001b[1;32m     23\u001b[0m         \u001b[0;32mreturn\u001b[0m \u001b[0mobj\u001b[0m\u001b[0;34m\u001b[0m\u001b[0;34m\u001b[0m\u001b[0m\n\u001b[1;32m     24\u001b[0m \u001b[0;34m\u001b[0m\u001b[0m\n",
            "\u001b[0;32m/usr/local/lib/python3.10/dist-packages/cola/ops/operator_base.py\u001b[0m in \u001b[0;36mfind_device\u001b[0;34m(obj)\u001b[0m\n\u001b[1;32m    270\u001b[0m     \u001b[0;32melif\u001b[0m \u001b[0misinstance\u001b[0m\u001b[0;34m(\u001b[0m\u001b[0mobj\u001b[0m\u001b[0;34m,\u001b[0m \u001b[0;34m(\u001b[0m\u001b[0mtuple\u001b[0m\u001b[0;34m,\u001b[0m \u001b[0mlist\u001b[0m\u001b[0;34m,\u001b[0m \u001b[0mset\u001b[0m\u001b[0;34m)\u001b[0m\u001b[0;34m)\u001b[0m\u001b[0;34m:\u001b[0m\u001b[0;34m\u001b[0m\u001b[0;34m\u001b[0m\u001b[0m\n\u001b[1;32m    271\u001b[0m         \u001b[0;32mfor\u001b[0m \u001b[0mob\u001b[0m \u001b[0;32min\u001b[0m \u001b[0mobj\u001b[0m\u001b[0;34m:\u001b[0m\u001b[0;34m\u001b[0m\u001b[0;34m\u001b[0m\u001b[0m\n\u001b[0;32m--> 272\u001b[0;31m             \u001b[0mdevice\u001b[0m \u001b[0;34m=\u001b[0m \u001b[0mfind_device\u001b[0m\u001b[0;34m(\u001b[0m\u001b[0mob\u001b[0m\u001b[0;34m)\u001b[0m\u001b[0;34m\u001b[0m\u001b[0;34m\u001b[0m\u001b[0m\n\u001b[0m\u001b[1;32m    273\u001b[0m             \u001b[0;32mif\u001b[0m \u001b[0mdevice\u001b[0m \u001b[0;32mis\u001b[0m \u001b[0;32mnot\u001b[0m \u001b[0;32mNone\u001b[0m\u001b[0;34m:\u001b[0m\u001b[0;34m\u001b[0m\u001b[0;34m\u001b[0m\u001b[0m\n\u001b[1;32m    274\u001b[0m                 \u001b[0;32mreturn\u001b[0m \u001b[0mdevice\u001b[0m\u001b[0;34m\u001b[0m\u001b[0;34m\u001b[0m\u001b[0m\n",
            "\u001b[0;32m/usr/local/lib/python3.10/dist-packages/cola/ops/operator_base.py\u001b[0m in \u001b[0;36mfind_device\u001b[0;34m(obj)\u001b[0m\n\u001b[1;32m    270\u001b[0m     \u001b[0;32melif\u001b[0m \u001b[0misinstance\u001b[0m\u001b[0;34m(\u001b[0m\u001b[0mobj\u001b[0m\u001b[0;34m,\u001b[0m \u001b[0;34m(\u001b[0m\u001b[0mtuple\u001b[0m\u001b[0;34m,\u001b[0m \u001b[0mlist\u001b[0m\u001b[0;34m,\u001b[0m \u001b[0mset\u001b[0m\u001b[0;34m)\u001b[0m\u001b[0;34m)\u001b[0m\u001b[0;34m:\u001b[0m\u001b[0;34m\u001b[0m\u001b[0;34m\u001b[0m\u001b[0m\n\u001b[1;32m    271\u001b[0m         \u001b[0;32mfor\u001b[0m \u001b[0mob\u001b[0m \u001b[0;32min\u001b[0m \u001b[0mobj\u001b[0m\u001b[0;34m:\u001b[0m\u001b[0;34m\u001b[0m\u001b[0;34m\u001b[0m\u001b[0m\n\u001b[0;32m--> 272\u001b[0;31m             \u001b[0mdevice\u001b[0m \u001b[0;34m=\u001b[0m \u001b[0mfind_device\u001b[0m\u001b[0;34m(\u001b[0m\u001b[0mob\u001b[0m\u001b[0;34m)\u001b[0m\u001b[0;34m\u001b[0m\u001b[0;34m\u001b[0m\u001b[0m\n\u001b[0m\u001b[1;32m    273\u001b[0m             \u001b[0;32mif\u001b[0m \u001b[0mdevice\u001b[0m \u001b[0;32mis\u001b[0m \u001b[0;32mnot\u001b[0m \u001b[0;32mNone\u001b[0m\u001b[0;34m:\u001b[0m\u001b[0;34m\u001b[0m\u001b[0;34m\u001b[0m\u001b[0m\n\u001b[1;32m    274\u001b[0m                 \u001b[0;32mreturn\u001b[0m \u001b[0mdevice\u001b[0m\u001b[0;34m\u001b[0m\u001b[0;34m\u001b[0m\u001b[0m\n",
            "\u001b[0;32m/usr/local/lib/python3.10/dist-packages/cola/ops/operator_base.py\u001b[0m in \u001b[0;36mfind_device\u001b[0;34m(obj)\u001b[0m\n\u001b[1;32m    265\u001b[0m     \u001b[0;32mif\u001b[0m \u001b[0mis_array\u001b[0m\u001b[0;34m(\u001b[0m\u001b[0mobj\u001b[0m\u001b[0;34m)\u001b[0m\u001b[0;34m:\u001b[0m\u001b[0;34m\u001b[0m\u001b[0;34m\u001b[0m\u001b[0m\n\u001b[1;32m    266\u001b[0m         \u001b[0mxnp\u001b[0m \u001b[0;34m=\u001b[0m \u001b[0mget_library_fns\u001b[0m\u001b[0;34m(\u001b[0m\u001b[0mobj\u001b[0m\u001b[0;34m.\u001b[0m\u001b[0mdtype\u001b[0m\u001b[0;34m)\u001b[0m\u001b[0;34m\u001b[0m\u001b[0;34m\u001b[0m\u001b[0m\n\u001b[0;32m--> 267\u001b[0;31m         \u001b[0;32mreturn\u001b[0m \u001b[0mxnp\u001b[0m\u001b[0;34m.\u001b[0m\u001b[0mget_device\u001b[0m\u001b[0;34m(\u001b[0m\u001b[0mobj\u001b[0m\u001b[0;34m)\u001b[0m\u001b[0;34m\u001b[0m\u001b[0;34m\u001b[0m\u001b[0m\n\u001b[0m\u001b[1;32m    268\u001b[0m     \u001b[0;32melif\u001b[0m \u001b[0misinstance\u001b[0m\u001b[0;34m(\u001b[0m\u001b[0mobj\u001b[0m\u001b[0;34m,\u001b[0m \u001b[0mLinearOperator\u001b[0m\u001b[0;34m)\u001b[0m\u001b[0;34m:\u001b[0m\u001b[0;34m\u001b[0m\u001b[0;34m\u001b[0m\u001b[0m\n\u001b[1;32m    269\u001b[0m         \u001b[0;32mreturn\u001b[0m \u001b[0mobj\u001b[0m\u001b[0;34m.\u001b[0m\u001b[0mdevice\u001b[0m\u001b[0;34m\u001b[0m\u001b[0;34m\u001b[0m\u001b[0m\n",
            "\u001b[0;32m/usr/local/lib/python3.10/dist-packages/cola/backends/jax_fns.py\u001b[0m in \u001b[0;36mget_device\u001b[0;34m(array)\u001b[0m\n\u001b[1;32m    157\u001b[0m \u001b[0;32mdef\u001b[0m \u001b[0mget_device\u001b[0m\u001b[0;34m(\u001b[0m\u001b[0marray\u001b[0m\u001b[0;34m)\u001b[0m\u001b[0;34m:\u001b[0m\u001b[0;34m\u001b[0m\u001b[0;34m\u001b[0m\u001b[0m\n\u001b[1;32m    158\u001b[0m     \u001b[0;32mif\u001b[0m \u001b[0;32mnot\u001b[0m \u001b[0misinstance\u001b[0m\u001b[0;34m(\u001b[0m\u001b[0marray\u001b[0m\u001b[0;34m,\u001b[0m \u001b[0mjax\u001b[0m\u001b[0;34m.\u001b[0m\u001b[0mcore\u001b[0m\u001b[0;34m.\u001b[0m\u001b[0mTracer\u001b[0m\u001b[0;34m)\u001b[0m \u001b[0;32mand\u001b[0m \u001b[0mhasattr\u001b[0m\u001b[0;34m(\u001b[0m\u001b[0marray\u001b[0m\u001b[0;34m,\u001b[0m \u001b[0;34m'device'\u001b[0m\u001b[0;34m)\u001b[0m\u001b[0;34m:\u001b[0m\u001b[0;34m\u001b[0m\u001b[0;34m\u001b[0m\u001b[0m\n\u001b[0;32m--> 159\u001b[0;31m         \u001b[0;32mreturn\u001b[0m \u001b[0marray\u001b[0m\u001b[0;34m.\u001b[0m\u001b[0mdevice\u001b[0m\u001b[0;34m(\u001b[0m\u001b[0;34m)\u001b[0m\u001b[0;34m\u001b[0m\u001b[0;34m\u001b[0m\u001b[0m\n\u001b[0m\u001b[1;32m    160\u001b[0m     \u001b[0;32melse\u001b[0m\u001b[0;34m:\u001b[0m\u001b[0;34m\u001b[0m\u001b[0;34m\u001b[0m\u001b[0m\n\u001b[1;32m    161\u001b[0m         \u001b[0;32mreturn\u001b[0m \u001b[0mget_default_device\u001b[0m\u001b[0;34m(\u001b[0m\u001b[0;34m)\u001b[0m\u001b[0;34m\u001b[0m\u001b[0;34m\u001b[0m\u001b[0m\n",
            "\u001b[0;31mTypeError\u001b[0m: 'Device' object is not callable"
          ]
        }
      ]
    }
  ]
}